{
  "nbformat": 4,
  "nbformat_minor": 0,
  "metadata": {
    "colab": {
      "provenance": [],
      "mount_file_id": "1v7d999C87kYil7OxD1dzZ2OIn5nl4x6t",
      "authorship_tag": "ABX9TyPjE66s4JHg3InNe6K4pwyB",
      "include_colab_link": true
    },
    "kernelspec": {
      "name": "python3",
      "display_name": "Python 3"
    },
    "language_info": {
      "name": "python"
    },
    "accelerator": "GPU"
  },
  "cells": [
    {
      "cell_type": "markdown",
      "metadata": {
        "id": "view-in-github",
        "colab_type": "text"
      },
      "source": [
        "<a href=\"https://colab.research.google.com/github/kamrulhasan04947/mlprac/blob/main/indianComm.ipynb\" target=\"_parent\"><img src=\"https://colab.research.google.com/assets/colab-badge.svg\" alt=\"Open In Colab\"/></a>"
      ]
    },
    {
      "cell_type": "code",
      "source": [
        "import pandas as pd"
      ],
      "metadata": {
        "id": "Yf6fwgsEdRvU"
      },
      "execution_count": null,
      "outputs": []
    },
    {
      "cell_type": "code",
      "source": [
        "df = pd.read_csv(\"drive/MyDrive/Colab Notebooks/IndianCommodities.csv\", parse_dates=[\"Date\"], index_col=\"Date\")"
      ],
      "metadata": {
        "id": "rNX_uiDKdYXZ"
      },
      "execution_count": null,
      "outputs": []
    },
    {
      "cell_type": "markdown",
      "source": [
        "# **Data analysis**\n",
        "\n",
        "---\n",
        "\n"
      ],
      "metadata": {
        "id": "ZxzFz3CbdlcC"
      }
    },
    {
      "cell_type": "code",
      "source": [
        "df.head()"
      ],
      "metadata": {
        "colab": {
          "base_uri": "https://localhost:8080/",
          "height": 405
        },
        "id": "IuYsKFwFesDH",
        "outputId": "ce7e18e7-5a41-4cfa-ca3a-52453883a0e5"
      },
      "execution_count": null,
      "outputs": [
        {
          "output_type": "execute_result",
          "data": {
            "text/html": [
              "\n",
              "  <div id=\"df-65846427-aec9-40da-8d91-9a13844c0c71\">\n",
              "    <div class=\"colab-df-container\">\n",
              "      <div>\n",
              "<style scoped>\n",
              "    .dataframe tbody tr th:only-of-type {\n",
              "        vertical-align: middle;\n",
              "    }\n",
              "\n",
              "    .dataframe tbody tr th {\n",
              "        vertical-align: top;\n",
              "    }\n",
              "\n",
              "    .dataframe thead th {\n",
              "        text-align: right;\n",
              "    }\n",
              "</style>\n",
              "<table border=\"1\" class=\"dataframe\">\n",
              "  <thead>\n",
              "    <tr style=\"text-align: right;\">\n",
              "      <th></th>\n",
              "      <th>Unnamed: 0</th>\n",
              "      <th>Market</th>\n",
              "      <th>Category</th>\n",
              "      <th>Commodity</th>\n",
              "      <th>Unit</th>\n",
              "      <th>PriceFlag</th>\n",
              "      <th>PriceType</th>\n",
              "      <th>Currency</th>\n",
              "      <th>Price</th>\n",
              "      <th>USD_Price</th>\n",
              "    </tr>\n",
              "    <tr>\n",
              "      <th>Date</th>\n",
              "      <th></th>\n",
              "      <th></th>\n",
              "      <th></th>\n",
              "      <th></th>\n",
              "      <th></th>\n",
              "      <th></th>\n",
              "      <th></th>\n",
              "      <th></th>\n",
              "      <th></th>\n",
              "      <th></th>\n",
              "    </tr>\n",
              "  </thead>\n",
              "  <tbody>\n",
              "    <tr>\n",
              "      <th>1994-01-15</th>\n",
              "      <td>1</td>\n",
              "      <td>Delhi</td>\n",
              "      <td>cereals and tubers</td>\n",
              "      <td>Rice</td>\n",
              "      <td>KG</td>\n",
              "      <td>actual</td>\n",
              "      <td>Retail</td>\n",
              "      <td>INR</td>\n",
              "      <td>8.0</td>\n",
              "      <td>0.2545</td>\n",
              "    </tr>\n",
              "    <tr>\n",
              "      <th>1994-01-15</th>\n",
              "      <td>2</td>\n",
              "      <td>Delhi</td>\n",
              "      <td>cereals and tubers</td>\n",
              "      <td>Wheat</td>\n",
              "      <td>KG</td>\n",
              "      <td>actual</td>\n",
              "      <td>Retail</td>\n",
              "      <td>INR</td>\n",
              "      <td>5.0</td>\n",
              "      <td>0.1590</td>\n",
              "    </tr>\n",
              "    <tr>\n",
              "      <th>1994-01-15</th>\n",
              "      <td>3</td>\n",
              "      <td>Delhi</td>\n",
              "      <td>miscellaneous food</td>\n",
              "      <td>Sugar</td>\n",
              "      <td>KG</td>\n",
              "      <td>actual</td>\n",
              "      <td>Retail</td>\n",
              "      <td>INR</td>\n",
              "      <td>13.5</td>\n",
              "      <td>0.4294</td>\n",
              "    </tr>\n",
              "    <tr>\n",
              "      <th>1994-01-15</th>\n",
              "      <td>4</td>\n",
              "      <td>Delhi</td>\n",
              "      <td>oil and fats</td>\n",
              "      <td>Oil (mustard)</td>\n",
              "      <td>KG</td>\n",
              "      <td>actual</td>\n",
              "      <td>Retail</td>\n",
              "      <td>INR</td>\n",
              "      <td>31.0</td>\n",
              "      <td>0.9860</td>\n",
              "    </tr>\n",
              "    <tr>\n",
              "      <th>1994-01-15</th>\n",
              "      <td>5</td>\n",
              "      <td>Ahmedabad</td>\n",
              "      <td>cereals and tubers</td>\n",
              "      <td>Rice</td>\n",
              "      <td>KG</td>\n",
              "      <td>actual</td>\n",
              "      <td>Retail</td>\n",
              "      <td>INR</td>\n",
              "      <td>6.8</td>\n",
              "      <td>0.2163</td>\n",
              "    </tr>\n",
              "  </tbody>\n",
              "</table>\n",
              "</div>\n",
              "      <button class=\"colab-df-convert\" onclick=\"convertToInteractive('df-65846427-aec9-40da-8d91-9a13844c0c71')\"\n",
              "              title=\"Convert this dataframe to an interactive table.\"\n",
              "              style=\"display:none;\">\n",
              "        \n",
              "  <svg xmlns=\"http://www.w3.org/2000/svg\" height=\"24px\"viewBox=\"0 0 24 24\"\n",
              "       width=\"24px\">\n",
              "    <path d=\"M0 0h24v24H0V0z\" fill=\"none\"/>\n",
              "    <path d=\"M18.56 5.44l.94 2.06.94-2.06 2.06-.94-2.06-.94-.94-2.06-.94 2.06-2.06.94zm-11 1L8.5 8.5l.94-2.06 2.06-.94-2.06-.94L8.5 2.5l-.94 2.06-2.06.94zm10 10l.94 2.06.94-2.06 2.06-.94-2.06-.94-.94-2.06-.94 2.06-2.06.94z\"/><path d=\"M17.41 7.96l-1.37-1.37c-.4-.4-.92-.59-1.43-.59-.52 0-1.04.2-1.43.59L10.3 9.45l-7.72 7.72c-.78.78-.78 2.05 0 2.83L4 21.41c.39.39.9.59 1.41.59.51 0 1.02-.2 1.41-.59l7.78-7.78 2.81-2.81c.8-.78.8-2.07 0-2.86zM5.41 20L4 18.59l7.72-7.72 1.47 1.35L5.41 20z\"/>\n",
              "  </svg>\n",
              "      </button>\n",
              "      \n",
              "  <style>\n",
              "    .colab-df-container {\n",
              "      display:flex;\n",
              "      flex-wrap:wrap;\n",
              "      gap: 12px;\n",
              "    }\n",
              "\n",
              "    .colab-df-convert {\n",
              "      background-color: #E8F0FE;\n",
              "      border: none;\n",
              "      border-radius: 50%;\n",
              "      cursor: pointer;\n",
              "      display: none;\n",
              "      fill: #1967D2;\n",
              "      height: 32px;\n",
              "      padding: 0 0 0 0;\n",
              "      width: 32px;\n",
              "    }\n",
              "\n",
              "    .colab-df-convert:hover {\n",
              "      background-color: #E2EBFA;\n",
              "      box-shadow: 0px 1px 2px rgba(60, 64, 67, 0.3), 0px 1px 3px 1px rgba(60, 64, 67, 0.15);\n",
              "      fill: #174EA6;\n",
              "    }\n",
              "\n",
              "    [theme=dark] .colab-df-convert {\n",
              "      background-color: #3B4455;\n",
              "      fill: #D2E3FC;\n",
              "    }\n",
              "\n",
              "    [theme=dark] .colab-df-convert:hover {\n",
              "      background-color: #434B5C;\n",
              "      box-shadow: 0px 1px 3px 1px rgba(0, 0, 0, 0.15);\n",
              "      filter: drop-shadow(0px 1px 2px rgba(0, 0, 0, 0.3));\n",
              "      fill: #FFFFFF;\n",
              "    }\n",
              "  </style>\n",
              "\n",
              "      <script>\n",
              "        const buttonEl =\n",
              "          document.querySelector('#df-65846427-aec9-40da-8d91-9a13844c0c71 button.colab-df-convert');\n",
              "        buttonEl.style.display =\n",
              "          google.colab.kernel.accessAllowed ? 'block' : 'none';\n",
              "\n",
              "        async function convertToInteractive(key) {\n",
              "          const element = document.querySelector('#df-65846427-aec9-40da-8d91-9a13844c0c71');\n",
              "          const dataTable =\n",
              "            await google.colab.kernel.invokeFunction('convertToInteractive',\n",
              "                                                     [key], {});\n",
              "          if (!dataTable) return;\n",
              "\n",
              "          const docLinkHtml = 'Like what you see? Visit the ' +\n",
              "            '<a target=\"_blank\" href=https://colab.research.google.com/notebooks/data_table.ipynb>data table notebook</a>'\n",
              "            + ' to learn more about interactive tables.';\n",
              "          element.innerHTML = '';\n",
              "          dataTable['output_type'] = 'display_data';\n",
              "          await google.colab.output.renderOutput(dataTable, element);\n",
              "          const docLink = document.createElement('div');\n",
              "          docLink.innerHTML = docLinkHtml;\n",
              "          element.appendChild(docLink);\n",
              "        }\n",
              "      </script>\n",
              "    </div>\n",
              "  </div>\n",
              "  "
            ],
            "text/plain": [
              "            Unnamed: 0     Market  ... Price USD_Price\n",
              "Date                               ...                \n",
              "1994-01-15           1      Delhi  ...   8.0    0.2545\n",
              "1994-01-15           2      Delhi  ...   5.0    0.1590\n",
              "1994-01-15           3      Delhi  ...  13.5    0.4294\n",
              "1994-01-15           4      Delhi  ...  31.0    0.9860\n",
              "1994-01-15           5  Ahmedabad  ...   6.8    0.2163\n",
              "\n",
              "[5 rows x 10 columns]"
            ]
          },
          "metadata": {},
          "execution_count": 3
        }
      ]
    },
    {
      "cell_type": "code",
      "source": [
        "df.drop(\"Unnamed: 0\", axis=1, inplace=True)"
      ],
      "metadata": {
        "id": "zbZ9QJHUfEru"
      },
      "execution_count": null,
      "outputs": []
    },
    {
      "cell_type": "code",
      "source": [
        "df.head()"
      ],
      "metadata": {
        "colab": {
          "base_uri": "https://localhost:8080/",
          "height": 368
        },
        "id": "7IvOBTmMfQ8M",
        "outputId": "009be529-953b-4f6a-ff15-f603d2fa8e17"
      },
      "execution_count": null,
      "outputs": [
        {
          "output_type": "execute_result",
          "data": {
            "text/html": [
              "\n",
              "  <div id=\"df-92155b2f-7213-4913-8b31-f0bd4dbbd56b\">\n",
              "    <div class=\"colab-df-container\">\n",
              "      <div>\n",
              "<style scoped>\n",
              "    .dataframe tbody tr th:only-of-type {\n",
              "        vertical-align: middle;\n",
              "    }\n",
              "\n",
              "    .dataframe tbody tr th {\n",
              "        vertical-align: top;\n",
              "    }\n",
              "\n",
              "    .dataframe thead th {\n",
              "        text-align: right;\n",
              "    }\n",
              "</style>\n",
              "<table border=\"1\" class=\"dataframe\">\n",
              "  <thead>\n",
              "    <tr style=\"text-align: right;\">\n",
              "      <th></th>\n",
              "      <th>Market</th>\n",
              "      <th>Category</th>\n",
              "      <th>Commodity</th>\n",
              "      <th>Unit</th>\n",
              "      <th>PriceFlag</th>\n",
              "      <th>PriceType</th>\n",
              "      <th>Currency</th>\n",
              "      <th>Price</th>\n",
              "      <th>USD_Price</th>\n",
              "    </tr>\n",
              "    <tr>\n",
              "      <th>Date</th>\n",
              "      <th></th>\n",
              "      <th></th>\n",
              "      <th></th>\n",
              "      <th></th>\n",
              "      <th></th>\n",
              "      <th></th>\n",
              "      <th></th>\n",
              "      <th></th>\n",
              "      <th></th>\n",
              "    </tr>\n",
              "  </thead>\n",
              "  <tbody>\n",
              "    <tr>\n",
              "      <th>1994-01-15</th>\n",
              "      <td>Delhi</td>\n",
              "      <td>cereals and tubers</td>\n",
              "      <td>Rice</td>\n",
              "      <td>KG</td>\n",
              "      <td>actual</td>\n",
              "      <td>Retail</td>\n",
              "      <td>INR</td>\n",
              "      <td>8.0</td>\n",
              "      <td>0.2545</td>\n",
              "    </tr>\n",
              "    <tr>\n",
              "      <th>1994-01-15</th>\n",
              "      <td>Delhi</td>\n",
              "      <td>cereals and tubers</td>\n",
              "      <td>Wheat</td>\n",
              "      <td>KG</td>\n",
              "      <td>actual</td>\n",
              "      <td>Retail</td>\n",
              "      <td>INR</td>\n",
              "      <td>5.0</td>\n",
              "      <td>0.1590</td>\n",
              "    </tr>\n",
              "    <tr>\n",
              "      <th>1994-01-15</th>\n",
              "      <td>Delhi</td>\n",
              "      <td>miscellaneous food</td>\n",
              "      <td>Sugar</td>\n",
              "      <td>KG</td>\n",
              "      <td>actual</td>\n",
              "      <td>Retail</td>\n",
              "      <td>INR</td>\n",
              "      <td>13.5</td>\n",
              "      <td>0.4294</td>\n",
              "    </tr>\n",
              "    <tr>\n",
              "      <th>1994-01-15</th>\n",
              "      <td>Delhi</td>\n",
              "      <td>oil and fats</td>\n",
              "      <td>Oil (mustard)</td>\n",
              "      <td>KG</td>\n",
              "      <td>actual</td>\n",
              "      <td>Retail</td>\n",
              "      <td>INR</td>\n",
              "      <td>31.0</td>\n",
              "      <td>0.9860</td>\n",
              "    </tr>\n",
              "    <tr>\n",
              "      <th>1994-01-15</th>\n",
              "      <td>Ahmedabad</td>\n",
              "      <td>cereals and tubers</td>\n",
              "      <td>Rice</td>\n",
              "      <td>KG</td>\n",
              "      <td>actual</td>\n",
              "      <td>Retail</td>\n",
              "      <td>INR</td>\n",
              "      <td>6.8</td>\n",
              "      <td>0.2163</td>\n",
              "    </tr>\n",
              "  </tbody>\n",
              "</table>\n",
              "</div>\n",
              "      <button class=\"colab-df-convert\" onclick=\"convertToInteractive('df-92155b2f-7213-4913-8b31-f0bd4dbbd56b')\"\n",
              "              title=\"Convert this dataframe to an interactive table.\"\n",
              "              style=\"display:none;\">\n",
              "        \n",
              "  <svg xmlns=\"http://www.w3.org/2000/svg\" height=\"24px\"viewBox=\"0 0 24 24\"\n",
              "       width=\"24px\">\n",
              "    <path d=\"M0 0h24v24H0V0z\" fill=\"none\"/>\n",
              "    <path d=\"M18.56 5.44l.94 2.06.94-2.06 2.06-.94-2.06-.94-.94-2.06-.94 2.06-2.06.94zm-11 1L8.5 8.5l.94-2.06 2.06-.94-2.06-.94L8.5 2.5l-.94 2.06-2.06.94zm10 10l.94 2.06.94-2.06 2.06-.94-2.06-.94-.94-2.06-.94 2.06-2.06.94z\"/><path d=\"M17.41 7.96l-1.37-1.37c-.4-.4-.92-.59-1.43-.59-.52 0-1.04.2-1.43.59L10.3 9.45l-7.72 7.72c-.78.78-.78 2.05 0 2.83L4 21.41c.39.39.9.59 1.41.59.51 0 1.02-.2 1.41-.59l7.78-7.78 2.81-2.81c.8-.78.8-2.07 0-2.86zM5.41 20L4 18.59l7.72-7.72 1.47 1.35L5.41 20z\"/>\n",
              "  </svg>\n",
              "      </button>\n",
              "      \n",
              "  <style>\n",
              "    .colab-df-container {\n",
              "      display:flex;\n",
              "      flex-wrap:wrap;\n",
              "      gap: 12px;\n",
              "    }\n",
              "\n",
              "    .colab-df-convert {\n",
              "      background-color: #E8F0FE;\n",
              "      border: none;\n",
              "      border-radius: 50%;\n",
              "      cursor: pointer;\n",
              "      display: none;\n",
              "      fill: #1967D2;\n",
              "      height: 32px;\n",
              "      padding: 0 0 0 0;\n",
              "      width: 32px;\n",
              "    }\n",
              "\n",
              "    .colab-df-convert:hover {\n",
              "      background-color: #E2EBFA;\n",
              "      box-shadow: 0px 1px 2px rgba(60, 64, 67, 0.3), 0px 1px 3px 1px rgba(60, 64, 67, 0.15);\n",
              "      fill: #174EA6;\n",
              "    }\n",
              "\n",
              "    [theme=dark] .colab-df-convert {\n",
              "      background-color: #3B4455;\n",
              "      fill: #D2E3FC;\n",
              "    }\n",
              "\n",
              "    [theme=dark] .colab-df-convert:hover {\n",
              "      background-color: #434B5C;\n",
              "      box-shadow: 0px 1px 3px 1px rgba(0, 0, 0, 0.15);\n",
              "      filter: drop-shadow(0px 1px 2px rgba(0, 0, 0, 0.3));\n",
              "      fill: #FFFFFF;\n",
              "    }\n",
              "  </style>\n",
              "\n",
              "      <script>\n",
              "        const buttonEl =\n",
              "          document.querySelector('#df-92155b2f-7213-4913-8b31-f0bd4dbbd56b button.colab-df-convert');\n",
              "        buttonEl.style.display =\n",
              "          google.colab.kernel.accessAllowed ? 'block' : 'none';\n",
              "\n",
              "        async function convertToInteractive(key) {\n",
              "          const element = document.querySelector('#df-92155b2f-7213-4913-8b31-f0bd4dbbd56b');\n",
              "          const dataTable =\n",
              "            await google.colab.kernel.invokeFunction('convertToInteractive',\n",
              "                                                     [key], {});\n",
              "          if (!dataTable) return;\n",
              "\n",
              "          const docLinkHtml = 'Like what you see? Visit the ' +\n",
              "            '<a target=\"_blank\" href=https://colab.research.google.com/notebooks/data_table.ipynb>data table notebook</a>'\n",
              "            + ' to learn more about interactive tables.';\n",
              "          element.innerHTML = '';\n",
              "          dataTable['output_type'] = 'display_data';\n",
              "          await google.colab.output.renderOutput(dataTable, element);\n",
              "          const docLink = document.createElement('div');\n",
              "          docLink.innerHTML = docLinkHtml;\n",
              "          element.appendChild(docLink);\n",
              "        }\n",
              "      </script>\n",
              "    </div>\n",
              "  </div>\n",
              "  "
            ],
            "text/plain": [
              "               Market            Category  ... Price USD_Price\n",
              "Date                                       ...                \n",
              "1994-01-15      Delhi  cereals and tubers  ...   8.0    0.2545\n",
              "1994-01-15      Delhi  cereals and tubers  ...   5.0    0.1590\n",
              "1994-01-15      Delhi  miscellaneous food  ...  13.5    0.4294\n",
              "1994-01-15      Delhi        oil and fats  ...  31.0    0.9860\n",
              "1994-01-15  Ahmedabad  cereals and tubers  ...   6.8    0.2163\n",
              "\n",
              "[5 rows x 9 columns]"
            ]
          },
          "metadata": {},
          "execution_count": 5
        }
      ]
    },
    {
      "cell_type": "code",
      "source": [
        "df.index"
      ],
      "metadata": {
        "colab": {
          "base_uri": "https://localhost:8080/"
        },
        "id": "kmL7flBWfiyl",
        "outputId": "bc7827f1-51b9-452c-a146-d081ef8ec756"
      },
      "execution_count": null,
      "outputs": [
        {
          "output_type": "execute_result",
          "data": {
            "text/plain": [
              "DatetimeIndex(['1994-01-15', '1994-01-15', '1994-01-15', '1994-01-15',\n",
              "               '1994-01-15', '1994-01-15', '1994-01-15', '1994-01-15',\n",
              "               '1994-01-15', '1994-01-15',\n",
              "               ...\n",
              "               '2021-09-15', '2021-09-15', '2021-09-15', '2021-09-15',\n",
              "               '2021-09-15', '2021-09-15', '2021-09-15', '2021-09-15',\n",
              "               '2021-09-15', '2021-09-15'],\n",
              "              dtype='datetime64[ns]', name='Date', length=139534, freq=None)"
            ]
          },
          "metadata": {},
          "execution_count": 6
        }
      ]
    },
    {
      "cell_type": "code",
      "source": [
        "type(df.index[0])"
      ],
      "metadata": {
        "colab": {
          "base_uri": "https://localhost:8080/"
        },
        "id": "GcIFRDOzicus",
        "outputId": "b9cdde42-ad85-4f1c-9193-9dc184c9790e"
      },
      "execution_count": null,
      "outputs": [
        {
          "output_type": "execute_result",
          "data": {
            "text/plain": [
              "pandas._libs.tslibs.timestamps.Timestamp"
            ]
          },
          "metadata": {},
          "execution_count": 7
        }
      ]
    },
    {
      "cell_type": "code",
      "source": [
        "df[\"1994-01-15\":\"1994-01-15\"]"
      ],
      "metadata": {
        "colab": {
          "base_uri": "https://localhost:8080/",
          "height": 1000
        },
        "id": "iYjnoO1Lm1qP",
        "outputId": "970229b7-862f-4c7c-ef69-846218eb6cfe"
      },
      "execution_count": null,
      "outputs": [
        {
          "output_type": "execute_result",
          "data": {
            "text/html": [
              "\n",
              "  <div id=\"df-6e2eb8b9-453b-47cd-85b3-ad8c39974896\">\n",
              "    <div class=\"colab-df-container\">\n",
              "      <div>\n",
              "<style scoped>\n",
              "    .dataframe tbody tr th:only-of-type {\n",
              "        vertical-align: middle;\n",
              "    }\n",
              "\n",
              "    .dataframe tbody tr th {\n",
              "        vertical-align: top;\n",
              "    }\n",
              "\n",
              "    .dataframe thead th {\n",
              "        text-align: right;\n",
              "    }\n",
              "</style>\n",
              "<table border=\"1\" class=\"dataframe\">\n",
              "  <thead>\n",
              "    <tr style=\"text-align: right;\">\n",
              "      <th></th>\n",
              "      <th>Market</th>\n",
              "      <th>Category</th>\n",
              "      <th>Commodity</th>\n",
              "      <th>Unit</th>\n",
              "      <th>PriceFlag</th>\n",
              "      <th>PriceType</th>\n",
              "      <th>Currency</th>\n",
              "      <th>Price</th>\n",
              "      <th>USD_Price</th>\n",
              "    </tr>\n",
              "    <tr>\n",
              "      <th>Date</th>\n",
              "      <th></th>\n",
              "      <th></th>\n",
              "      <th></th>\n",
              "      <th></th>\n",
              "      <th></th>\n",
              "      <th></th>\n",
              "      <th></th>\n",
              "      <th></th>\n",
              "      <th></th>\n",
              "    </tr>\n",
              "  </thead>\n",
              "  <tbody>\n",
              "    <tr>\n",
              "      <th>1994-01-15</th>\n",
              "      <td>Delhi</td>\n",
              "      <td>cereals and tubers</td>\n",
              "      <td>Rice</td>\n",
              "      <td>KG</td>\n",
              "      <td>actual</td>\n",
              "      <td>Retail</td>\n",
              "      <td>INR</td>\n",
              "      <td>8.00</td>\n",
              "      <td>0.2545</td>\n",
              "    </tr>\n",
              "    <tr>\n",
              "      <th>1994-01-15</th>\n",
              "      <td>Delhi</td>\n",
              "      <td>cereals and tubers</td>\n",
              "      <td>Wheat</td>\n",
              "      <td>KG</td>\n",
              "      <td>actual</td>\n",
              "      <td>Retail</td>\n",
              "      <td>INR</td>\n",
              "      <td>5.00</td>\n",
              "      <td>0.1590</td>\n",
              "    </tr>\n",
              "    <tr>\n",
              "      <th>1994-01-15</th>\n",
              "      <td>Delhi</td>\n",
              "      <td>miscellaneous food</td>\n",
              "      <td>Sugar</td>\n",
              "      <td>KG</td>\n",
              "      <td>actual</td>\n",
              "      <td>Retail</td>\n",
              "      <td>INR</td>\n",
              "      <td>13.50</td>\n",
              "      <td>0.4294</td>\n",
              "    </tr>\n",
              "    <tr>\n",
              "      <th>1994-01-15</th>\n",
              "      <td>Delhi</td>\n",
              "      <td>oil and fats</td>\n",
              "      <td>Oil (mustard)</td>\n",
              "      <td>KG</td>\n",
              "      <td>actual</td>\n",
              "      <td>Retail</td>\n",
              "      <td>INR</td>\n",
              "      <td>31.00</td>\n",
              "      <td>0.9860</td>\n",
              "    </tr>\n",
              "    <tr>\n",
              "      <th>1994-01-15</th>\n",
              "      <td>Ahmedabad</td>\n",
              "      <td>cereals and tubers</td>\n",
              "      <td>Rice</td>\n",
              "      <td>KG</td>\n",
              "      <td>actual</td>\n",
              "      <td>Retail</td>\n",
              "      <td>INR</td>\n",
              "      <td>6.80</td>\n",
              "      <td>0.2163</td>\n",
              "    </tr>\n",
              "    <tr>\n",
              "      <th>1994-01-15</th>\n",
              "      <td>Ahmedabad</td>\n",
              "      <td>cereals and tubers</td>\n",
              "      <td>Wheat</td>\n",
              "      <td>KG</td>\n",
              "      <td>actual</td>\n",
              "      <td>Retail</td>\n",
              "      <td>INR</td>\n",
              "      <td>6.20</td>\n",
              "      <td>0.1972</td>\n",
              "    </tr>\n",
              "    <tr>\n",
              "      <th>1994-01-15</th>\n",
              "      <td>Ahmedabad</td>\n",
              "      <td>miscellaneous food</td>\n",
              "      <td>Sugar</td>\n",
              "      <td>KG</td>\n",
              "      <td>actual</td>\n",
              "      <td>Retail</td>\n",
              "      <td>INR</td>\n",
              "      <td>13.50</td>\n",
              "      <td>0.4294</td>\n",
              "    </tr>\n",
              "    <tr>\n",
              "      <th>1994-01-15</th>\n",
              "      <td>Ahmedabad</td>\n",
              "      <td>oil and fats</td>\n",
              "      <td>Oil (mustard)</td>\n",
              "      <td>KG</td>\n",
              "      <td>actual</td>\n",
              "      <td>Retail</td>\n",
              "      <td>INR</td>\n",
              "      <td>30.00</td>\n",
              "      <td>0.9542</td>\n",
              "    </tr>\n",
              "    <tr>\n",
              "      <th>1994-01-15</th>\n",
              "      <td>Shimla</td>\n",
              "      <td>cereals and tubers</td>\n",
              "      <td>Rice</td>\n",
              "      <td>KG</td>\n",
              "      <td>actual</td>\n",
              "      <td>Retail</td>\n",
              "      <td>INR</td>\n",
              "      <td>9.00</td>\n",
              "      <td>0.2863</td>\n",
              "    </tr>\n",
              "    <tr>\n",
              "      <th>1994-01-15</th>\n",
              "      <td>Shimla</td>\n",
              "      <td>miscellaneous food</td>\n",
              "      <td>Sugar</td>\n",
              "      <td>KG</td>\n",
              "      <td>actual</td>\n",
              "      <td>Retail</td>\n",
              "      <td>INR</td>\n",
              "      <td>13.75</td>\n",
              "      <td>0.4373</td>\n",
              "    </tr>\n",
              "    <tr>\n",
              "      <th>1994-01-15</th>\n",
              "      <td>Shimla</td>\n",
              "      <td>oil and fats</td>\n",
              "      <td>Oil (mustard)</td>\n",
              "      <td>KG</td>\n",
              "      <td>actual</td>\n",
              "      <td>Retail</td>\n",
              "      <td>INR</td>\n",
              "      <td>36.00</td>\n",
              "      <td>1.1450</td>\n",
              "    </tr>\n",
              "    <tr>\n",
              "      <th>1994-01-15</th>\n",
              "      <td>Bengaluru</td>\n",
              "      <td>cereals and tubers</td>\n",
              "      <td>Wheat</td>\n",
              "      <td>KG</td>\n",
              "      <td>actual</td>\n",
              "      <td>Retail</td>\n",
              "      <td>INR</td>\n",
              "      <td>7.00</td>\n",
              "      <td>0.2226</td>\n",
              "    </tr>\n",
              "    <tr>\n",
              "      <th>1994-01-15</th>\n",
              "      <td>Bengaluru</td>\n",
              "      <td>miscellaneous food</td>\n",
              "      <td>Sugar</td>\n",
              "      <td>KG</td>\n",
              "      <td>actual</td>\n",
              "      <td>Retail</td>\n",
              "      <td>INR</td>\n",
              "      <td>13.20</td>\n",
              "      <td>0.4198</td>\n",
              "    </tr>\n",
              "    <tr>\n",
              "      <th>1994-01-15</th>\n",
              "      <td>Bengaluru</td>\n",
              "      <td>oil and fats</td>\n",
              "      <td>Oil (mustard)</td>\n",
              "      <td>KG</td>\n",
              "      <td>actual</td>\n",
              "      <td>Retail</td>\n",
              "      <td>INR</td>\n",
              "      <td>41.00</td>\n",
              "      <td>1.3041</td>\n",
              "    </tr>\n",
              "    <tr>\n",
              "      <th>1994-01-15</th>\n",
              "      <td>Bhopal</td>\n",
              "      <td>cereals and tubers</td>\n",
              "      <td>Wheat</td>\n",
              "      <td>KG</td>\n",
              "      <td>actual</td>\n",
              "      <td>Retail</td>\n",
              "      <td>INR</td>\n",
              "      <td>4.50</td>\n",
              "      <td>0.1431</td>\n",
              "    </tr>\n",
              "    <tr>\n",
              "      <th>1994-01-15</th>\n",
              "      <td>Bhopal</td>\n",
              "      <td>miscellaneous food</td>\n",
              "      <td>Sugar</td>\n",
              "      <td>KG</td>\n",
              "      <td>actual</td>\n",
              "      <td>Retail</td>\n",
              "      <td>INR</td>\n",
              "      <td>13.25</td>\n",
              "      <td>0.4214</td>\n",
              "    </tr>\n",
              "    <tr>\n",
              "      <th>1994-01-15</th>\n",
              "      <td>Bhopal</td>\n",
              "      <td>oil and fats</td>\n",
              "      <td>Oil (mustard)</td>\n",
              "      <td>KG</td>\n",
              "      <td>actual</td>\n",
              "      <td>Retail</td>\n",
              "      <td>INR</td>\n",
              "      <td>31.00</td>\n",
              "      <td>0.9860</td>\n",
              "    </tr>\n",
              "    <tr>\n",
              "      <th>1994-01-15</th>\n",
              "      <td>Mumbai</td>\n",
              "      <td>cereals and tubers</td>\n",
              "      <td>Rice</td>\n",
              "      <td>KG</td>\n",
              "      <td>actual</td>\n",
              "      <td>Retail</td>\n",
              "      <td>INR</td>\n",
              "      <td>7.50</td>\n",
              "      <td>0.2385</td>\n",
              "    </tr>\n",
              "    <tr>\n",
              "      <th>1994-01-15</th>\n",
              "      <td>Mumbai</td>\n",
              "      <td>cereals and tubers</td>\n",
              "      <td>Wheat</td>\n",
              "      <td>KG</td>\n",
              "      <td>actual</td>\n",
              "      <td>Retail</td>\n",
              "      <td>INR</td>\n",
              "      <td>8.00</td>\n",
              "      <td>0.2545</td>\n",
              "    </tr>\n",
              "    <tr>\n",
              "      <th>1994-01-15</th>\n",
              "      <td>Mumbai</td>\n",
              "      <td>miscellaneous food</td>\n",
              "      <td>Sugar</td>\n",
              "      <td>KG</td>\n",
              "      <td>actual</td>\n",
              "      <td>Retail</td>\n",
              "      <td>INR</td>\n",
              "      <td>13.80</td>\n",
              "      <td>0.4389</td>\n",
              "    </tr>\n",
              "    <tr>\n",
              "      <th>1994-01-15</th>\n",
              "      <td>Mumbai</td>\n",
              "      <td>oil and fats</td>\n",
              "      <td>Oil (mustard)</td>\n",
              "      <td>KG</td>\n",
              "      <td>actual</td>\n",
              "      <td>Retail</td>\n",
              "      <td>INR</td>\n",
              "      <td>36.00</td>\n",
              "      <td>1.1450</td>\n",
              "    </tr>\n",
              "    <tr>\n",
              "      <th>1994-01-15</th>\n",
              "      <td>Bhubaneshwar</td>\n",
              "      <td>cereals and tubers</td>\n",
              "      <td>Wheat</td>\n",
              "      <td>KG</td>\n",
              "      <td>actual</td>\n",
              "      <td>Retail</td>\n",
              "      <td>INR</td>\n",
              "      <td>5.00</td>\n",
              "      <td>0.1590</td>\n",
              "    </tr>\n",
              "    <tr>\n",
              "      <th>1994-01-15</th>\n",
              "      <td>Bhubaneshwar</td>\n",
              "      <td>miscellaneous food</td>\n",
              "      <td>Sugar</td>\n",
              "      <td>KG</td>\n",
              "      <td>actual</td>\n",
              "      <td>Retail</td>\n",
              "      <td>INR</td>\n",
              "      <td>13.50</td>\n",
              "      <td>0.4294</td>\n",
              "    </tr>\n",
              "    <tr>\n",
              "      <th>1994-01-15</th>\n",
              "      <td>Bhubaneshwar</td>\n",
              "      <td>oil and fats</td>\n",
              "      <td>Oil (mustard)</td>\n",
              "      <td>KG</td>\n",
              "      <td>actual</td>\n",
              "      <td>Retail</td>\n",
              "      <td>INR</td>\n",
              "      <td>33.00</td>\n",
              "      <td>1.0496</td>\n",
              "    </tr>\n",
              "    <tr>\n",
              "      <th>1994-01-15</th>\n",
              "      <td>Hyderabad</td>\n",
              "      <td>cereals and tubers</td>\n",
              "      <td>Rice</td>\n",
              "      <td>KG</td>\n",
              "      <td>actual</td>\n",
              "      <td>Retail</td>\n",
              "      <td>INR</td>\n",
              "      <td>6.20</td>\n",
              "      <td>0.1972</td>\n",
              "    </tr>\n",
              "    <tr>\n",
              "      <th>1994-01-15</th>\n",
              "      <td>Hyderabad</td>\n",
              "      <td>cereals and tubers</td>\n",
              "      <td>Wheat</td>\n",
              "      <td>KG</td>\n",
              "      <td>actual</td>\n",
              "      <td>Retail</td>\n",
              "      <td>INR</td>\n",
              "      <td>7.50</td>\n",
              "      <td>0.2385</td>\n",
              "    </tr>\n",
              "    <tr>\n",
              "      <th>1994-01-15</th>\n",
              "      <td>Hyderabad</td>\n",
              "      <td>miscellaneous food</td>\n",
              "      <td>Sugar</td>\n",
              "      <td>KG</td>\n",
              "      <td>actual</td>\n",
              "      <td>Retail</td>\n",
              "      <td>INR</td>\n",
              "      <td>13.00</td>\n",
              "      <td>0.4135</td>\n",
              "    </tr>\n",
              "    <tr>\n",
              "      <th>1994-01-15</th>\n",
              "      <td>Hyderabad</td>\n",
              "      <td>oil and fats</td>\n",
              "      <td>Oil (mustard)</td>\n",
              "      <td>KG</td>\n",
              "      <td>actual</td>\n",
              "      <td>Retail</td>\n",
              "      <td>INR</td>\n",
              "      <td>37.00</td>\n",
              "      <td>1.1768</td>\n",
              "    </tr>\n",
              "    <tr>\n",
              "      <th>1994-01-15</th>\n",
              "      <td>Agartala</td>\n",
              "      <td>miscellaneous food</td>\n",
              "      <td>Sugar</td>\n",
              "      <td>KG</td>\n",
              "      <td>actual</td>\n",
              "      <td>Retail</td>\n",
              "      <td>INR</td>\n",
              "      <td>16.00</td>\n",
              "      <td>0.5089</td>\n",
              "    </tr>\n",
              "    <tr>\n",
              "      <th>1994-01-15</th>\n",
              "      <td>Agartala</td>\n",
              "      <td>oil and fats</td>\n",
              "      <td>Oil (mustard)</td>\n",
              "      <td>KG</td>\n",
              "      <td>actual</td>\n",
              "      <td>Retail</td>\n",
              "      <td>INR</td>\n",
              "      <td>41.00</td>\n",
              "      <td>1.3041</td>\n",
              "    </tr>\n",
              "    <tr>\n",
              "      <th>1994-01-15</th>\n",
              "      <td>Kolkata</td>\n",
              "      <td>cereals and tubers</td>\n",
              "      <td>Rice</td>\n",
              "      <td>KG</td>\n",
              "      <td>actual</td>\n",
              "      <td>Retail</td>\n",
              "      <td>INR</td>\n",
              "      <td>6.75</td>\n",
              "      <td>0.2147</td>\n",
              "    </tr>\n",
              "    <tr>\n",
              "      <th>1994-01-15</th>\n",
              "      <td>Kolkata</td>\n",
              "      <td>miscellaneous food</td>\n",
              "      <td>Sugar</td>\n",
              "      <td>KG</td>\n",
              "      <td>actual</td>\n",
              "      <td>Retail</td>\n",
              "      <td>INR</td>\n",
              "      <td>13.40</td>\n",
              "      <td>0.4262</td>\n",
              "    </tr>\n",
              "    <tr>\n",
              "      <th>1994-01-15</th>\n",
              "      <td>Kolkata</td>\n",
              "      <td>oil and fats</td>\n",
              "      <td>Oil (mustard)</td>\n",
              "      <td>KG</td>\n",
              "      <td>actual</td>\n",
              "      <td>Retail</td>\n",
              "      <td>INR</td>\n",
              "      <td>31.00</td>\n",
              "      <td>0.9860</td>\n",
              "    </tr>\n",
              "  </tbody>\n",
              "</table>\n",
              "</div>\n",
              "      <button class=\"colab-df-convert\" onclick=\"convertToInteractive('df-6e2eb8b9-453b-47cd-85b3-ad8c39974896')\"\n",
              "              title=\"Convert this dataframe to an interactive table.\"\n",
              "              style=\"display:none;\">\n",
              "        \n",
              "  <svg xmlns=\"http://www.w3.org/2000/svg\" height=\"24px\"viewBox=\"0 0 24 24\"\n",
              "       width=\"24px\">\n",
              "    <path d=\"M0 0h24v24H0V0z\" fill=\"none\"/>\n",
              "    <path d=\"M18.56 5.44l.94 2.06.94-2.06 2.06-.94-2.06-.94-.94-2.06-.94 2.06-2.06.94zm-11 1L8.5 8.5l.94-2.06 2.06-.94-2.06-.94L8.5 2.5l-.94 2.06-2.06.94zm10 10l.94 2.06.94-2.06 2.06-.94-2.06-.94-.94-2.06-.94 2.06-2.06.94z\"/><path d=\"M17.41 7.96l-1.37-1.37c-.4-.4-.92-.59-1.43-.59-.52 0-1.04.2-1.43.59L10.3 9.45l-7.72 7.72c-.78.78-.78 2.05 0 2.83L4 21.41c.39.39.9.59 1.41.59.51 0 1.02-.2 1.41-.59l7.78-7.78 2.81-2.81c.8-.78.8-2.07 0-2.86zM5.41 20L4 18.59l7.72-7.72 1.47 1.35L5.41 20z\"/>\n",
              "  </svg>\n",
              "      </button>\n",
              "      \n",
              "  <style>\n",
              "    .colab-df-container {\n",
              "      display:flex;\n",
              "      flex-wrap:wrap;\n",
              "      gap: 12px;\n",
              "    }\n",
              "\n",
              "    .colab-df-convert {\n",
              "      background-color: #E8F0FE;\n",
              "      border: none;\n",
              "      border-radius: 50%;\n",
              "      cursor: pointer;\n",
              "      display: none;\n",
              "      fill: #1967D2;\n",
              "      height: 32px;\n",
              "      padding: 0 0 0 0;\n",
              "      width: 32px;\n",
              "    }\n",
              "\n",
              "    .colab-df-convert:hover {\n",
              "      background-color: #E2EBFA;\n",
              "      box-shadow: 0px 1px 2px rgba(60, 64, 67, 0.3), 0px 1px 3px 1px rgba(60, 64, 67, 0.15);\n",
              "      fill: #174EA6;\n",
              "    }\n",
              "\n",
              "    [theme=dark] .colab-df-convert {\n",
              "      background-color: #3B4455;\n",
              "      fill: #D2E3FC;\n",
              "    }\n",
              "\n",
              "    [theme=dark] .colab-df-convert:hover {\n",
              "      background-color: #434B5C;\n",
              "      box-shadow: 0px 1px 3px 1px rgba(0, 0, 0, 0.15);\n",
              "      filter: drop-shadow(0px 1px 2px rgba(0, 0, 0, 0.3));\n",
              "      fill: #FFFFFF;\n",
              "    }\n",
              "  </style>\n",
              "\n",
              "      <script>\n",
              "        const buttonEl =\n",
              "          document.querySelector('#df-6e2eb8b9-453b-47cd-85b3-ad8c39974896 button.colab-df-convert');\n",
              "        buttonEl.style.display =\n",
              "          google.colab.kernel.accessAllowed ? 'block' : 'none';\n",
              "\n",
              "        async function convertToInteractive(key) {\n",
              "          const element = document.querySelector('#df-6e2eb8b9-453b-47cd-85b3-ad8c39974896');\n",
              "          const dataTable =\n",
              "            await google.colab.kernel.invokeFunction('convertToInteractive',\n",
              "                                                     [key], {});\n",
              "          if (!dataTable) return;\n",
              "\n",
              "          const docLinkHtml = 'Like what you see? Visit the ' +\n",
              "            '<a target=\"_blank\" href=https://colab.research.google.com/notebooks/data_table.ipynb>data table notebook</a>'\n",
              "            + ' to learn more about interactive tables.';\n",
              "          element.innerHTML = '';\n",
              "          dataTable['output_type'] = 'display_data';\n",
              "          await google.colab.output.renderOutput(dataTable, element);\n",
              "          const docLink = document.createElement('div');\n",
              "          docLink.innerHTML = docLinkHtml;\n",
              "          element.appendChild(docLink);\n",
              "        }\n",
              "      </script>\n",
              "    </div>\n",
              "  </div>\n",
              "  "
            ],
            "text/plain": [
              "                  Market            Category  ...  Price USD_Price\n",
              "Date                                          ...                 \n",
              "1994-01-15         Delhi  cereals and tubers  ...   8.00    0.2545\n",
              "1994-01-15         Delhi  cereals and tubers  ...   5.00    0.1590\n",
              "1994-01-15         Delhi  miscellaneous food  ...  13.50    0.4294\n",
              "1994-01-15         Delhi        oil and fats  ...  31.00    0.9860\n",
              "1994-01-15     Ahmedabad  cereals and tubers  ...   6.80    0.2163\n",
              "1994-01-15     Ahmedabad  cereals and tubers  ...   6.20    0.1972\n",
              "1994-01-15     Ahmedabad  miscellaneous food  ...  13.50    0.4294\n",
              "1994-01-15     Ahmedabad        oil and fats  ...  30.00    0.9542\n",
              "1994-01-15        Shimla  cereals and tubers  ...   9.00    0.2863\n",
              "1994-01-15        Shimla  miscellaneous food  ...  13.75    0.4373\n",
              "1994-01-15        Shimla        oil and fats  ...  36.00    1.1450\n",
              "1994-01-15     Bengaluru  cereals and tubers  ...   7.00    0.2226\n",
              "1994-01-15     Bengaluru  miscellaneous food  ...  13.20    0.4198\n",
              "1994-01-15     Bengaluru        oil and fats  ...  41.00    1.3041\n",
              "1994-01-15        Bhopal  cereals and tubers  ...   4.50    0.1431\n",
              "1994-01-15        Bhopal  miscellaneous food  ...  13.25    0.4214\n",
              "1994-01-15        Bhopal        oil and fats  ...  31.00    0.9860\n",
              "1994-01-15        Mumbai  cereals and tubers  ...   7.50    0.2385\n",
              "1994-01-15        Mumbai  cereals and tubers  ...   8.00    0.2545\n",
              "1994-01-15        Mumbai  miscellaneous food  ...  13.80    0.4389\n",
              "1994-01-15        Mumbai        oil and fats  ...  36.00    1.1450\n",
              "1994-01-15  Bhubaneshwar  cereals and tubers  ...   5.00    0.1590\n",
              "1994-01-15  Bhubaneshwar  miscellaneous food  ...  13.50    0.4294\n",
              "1994-01-15  Bhubaneshwar        oil and fats  ...  33.00    1.0496\n",
              "1994-01-15     Hyderabad  cereals and tubers  ...   6.20    0.1972\n",
              "1994-01-15     Hyderabad  cereals and tubers  ...   7.50    0.2385\n",
              "1994-01-15     Hyderabad  miscellaneous food  ...  13.00    0.4135\n",
              "1994-01-15     Hyderabad        oil and fats  ...  37.00    1.1768\n",
              "1994-01-15      Agartala  miscellaneous food  ...  16.00    0.5089\n",
              "1994-01-15      Agartala        oil and fats  ...  41.00    1.3041\n",
              "1994-01-15       Kolkata  cereals and tubers  ...   6.75    0.2147\n",
              "1994-01-15       Kolkata  miscellaneous food  ...  13.40    0.4262\n",
              "1994-01-15       Kolkata        oil and fats  ...  31.00    0.9860\n",
              "\n",
              "[33 rows x 9 columns]"
            ]
          },
          "metadata": {},
          "execution_count": 8
        }
      ]
    },
    {
      "cell_type": "code",
      "source": [
        "df.isna().sum()"
      ],
      "metadata": {
        "colab": {
          "base_uri": "https://localhost:8080/"
        },
        "id": "E77tsIbSrhZR",
        "outputId": "02734aec-9b1d-4607-c59d-0dba3480355c"
      },
      "execution_count": null,
      "outputs": [
        {
          "output_type": "execute_result",
          "data": {
            "text/plain": [
              "Market       0\n",
              "Category     0\n",
              "Commodity    0\n",
              "Unit         0\n",
              "PriceFlag    0\n",
              "PriceType    0\n",
              "Currency     0\n",
              "Price        0\n",
              "USD_Price    0\n",
              "dtype: int64"
            ]
          },
          "metadata": {},
          "execution_count": 9
        }
      ]
    },
    {
      "cell_type": "code",
      "source": [
        "df.duplicated().sum()"
      ],
      "metadata": {
        "colab": {
          "base_uri": "https://localhost:8080/"
        },
        "id": "WlJeNSJIrpT2",
        "outputId": "6c7034a7-cfe5-48a7-b286-94315b07a99c"
      },
      "execution_count": null,
      "outputs": [
        {
          "output_type": "execute_result",
          "data": {
            "text/plain": [
              "1575"
            ]
          },
          "metadata": {},
          "execution_count": 10
        }
      ]
    },
    {
      "cell_type": "code",
      "source": [
        "df.drop_duplicates(inplace=True)"
      ],
      "metadata": {
        "id": "JSIPx18Krywe"
      },
      "execution_count": null,
      "outputs": []
    },
    {
      "cell_type": "code",
      "source": [
        "df.duplicated().sum()"
      ],
      "metadata": {
        "colab": {
          "base_uri": "https://localhost:8080/"
        },
        "id": "VTFNkzR0sITE",
        "outputId": "bd7f2239-cdd9-461e-c8a4-b71b733a2f60"
      },
      "execution_count": null,
      "outputs": [
        {
          "output_type": "execute_result",
          "data": {
            "text/plain": [
              "0"
            ]
          },
          "metadata": {},
          "execution_count": 12
        }
      ]
    },
    {
      "cell_type": "markdown",
      "source": [
        "# **Feature Enginering**"
      ],
      "metadata": {
        "id": "pEqJqCqBsSc1"
      }
    },
    {
      "cell_type": "code",
      "source": [
        "df.columns"
      ],
      "metadata": {
        "colab": {
          "base_uri": "https://localhost:8080/"
        },
        "id": "sahA7xiysgXT",
        "outputId": "6b74c896-27c9-4441-c273-47c7dde87bb4"
      },
      "execution_count": null,
      "outputs": [
        {
          "output_type": "execute_result",
          "data": {
            "text/plain": [
              "Index(['Market', 'Category', 'Commodity', 'Unit', 'PriceFlag', 'PriceType',\n",
              "       'Currency', 'Price', 'USD_Price'],\n",
              "      dtype='object')"
            ]
          },
          "metadata": {},
          "execution_count": 13
        }
      ]
    },
    {
      "cell_type": "markdown",
      "source": [
        "# **Market**\n"
      ],
      "metadata": {
        "id": "btj94k0i79Wx"
      }
    },
    {
      "cell_type": "markdown",
      "source": [
        "df[\"Market\"].unique()"
      ],
      "metadata": {
        "id": "TB38VQJfxwV_"
      }
    },
    {
      "cell_type": "code",
      "source": [
        "df.shape"
      ],
      "metadata": {
        "colab": {
          "base_uri": "https://localhost:8080/"
        },
        "id": "j2XXv-v1P03g",
        "outputId": "0373ffe2-075e-4425-96e7-4f058d541c6a"
      },
      "execution_count": null,
      "outputs": [
        {
          "output_type": "execute_result",
          "data": {
            "text/plain": [
              "(137959, 9)"
            ]
          },
          "metadata": {},
          "execution_count": 15
        }
      ]
    },
    {
      "cell_type": "code",
      "source": [
        "len(df[\"Market\"].unique())"
      ],
      "metadata": {
        "colab": {
          "base_uri": "https://localhost:8080/"
        },
        "id": "BBc5Nz8G0J0W",
        "outputId": "da276c35-0f49-4509-cba1-0aa1d8542a58"
      },
      "execution_count": null,
      "outputs": [
        {
          "output_type": "execute_result",
          "data": {
            "text/plain": [
              "165"
            ]
          },
          "metadata": {},
          "execution_count": 19
        }
      ]
    },
    {
      "cell_type": "code",
      "source": [
        "from sklearn.preprocessing import LabelEncoder\n",
        "lben = LabelEncoder()"
      ],
      "metadata": {
        "id": "4Dzd5Zjp2MNn"
      },
      "execution_count": null,
      "outputs": []
    },
    {
      "cell_type": "code",
      "source": [
        "df['Market'] = lben.fit_transform(df['Market'])"
      ],
      "metadata": {
        "id": "xpKZWPUo3DYd"
      },
      "execution_count": null,
      "outputs": []
    },
    {
      "cell_type": "code",
      "source": [
        "df['Market'].unique()"
      ],
      "metadata": {
        "colab": {
          "base_uri": "https://localhost:8080/"
        },
        "id": "Su3OzhvZ5mpF",
        "outputId": "db3a6f04-a1e0-4293-e5bc-9b656b309bb7"
      },
      "execution_count": null,
      "outputs": [
        {
          "output_type": "execute_result",
          "data": {
            "text/plain": [
              "array([ 42,   3, 138,  19,  24, 102,  25,  62,   1,  83, 137,  68,  35,\n",
              "        56, 150,  88,   4, 113,  34, 123, 119,  82,   9,  89,  41, 160,\n",
              "       120,  49,  76,  22,  60,  78,  93,  46, 106,  38, 133, 146,   2,\n",
              "       157, 140,  64,  48,  16,  73,  51,  84, 114, 115, 111,  55, 112,\n",
              "        85, 145,  57,  65, 126, 108,  96, 149,  86, 161,  40,  27, 104,\n",
              "       116,  67,  29,  50,   8,  26, 143,  44, 142,  94, 105, 110, 147,\n",
              "       164, 124, 128, 107,  91,  63,  74, 152,  13,  21,  70, 153,  52,\n",
              "        36,  37,  45, 121, 148, 158,   0,  77,  66, 144, 163,  53,  72,\n",
              "         7,  97,  59,  58, 127, 122,  92, 117, 118,  81, 155,  61,  71,\n",
              "       136, 154,  12,  15,  32,  54,  87, 131, 141,  20,  17, 159,  47,\n",
              "        75, 139,  18, 151,  10,  79,  80,  90, 103, 109, 101, 125, 130,\n",
              "       132, 134,  30,  23,  28, 100,   5,   6,  14,  99,  11,  98, 129,\n",
              "       162, 156,  33,  95,  39, 135,  31,  43,  69])"
            ]
          },
          "metadata": {},
          "execution_count": 22
        }
      ]
    },
    {
      "cell_type": "code",
      "source": [
        "df['Market'].dtype"
      ],
      "metadata": {
        "colab": {
          "base_uri": "https://localhost:8080/"
        },
        "id": "D9jw3iww6iTz",
        "outputId": "929a11c8-32be-4d51-c185-a42f3c4ced9d"
      },
      "execution_count": null,
      "outputs": [
        {
          "output_type": "execute_result",
          "data": {
            "text/plain": [
              "dtype('int64')"
            ]
          },
          "metadata": {},
          "execution_count": 23
        }
      ]
    },
    {
      "cell_type": "markdown",
      "source": [
        "\n",
        "# **Category**\n",
        "---\n",
        "\n"
      ],
      "metadata": {
        "id": "_ISvTwy38oj1"
      }
    },
    {
      "cell_type": "code",
      "source": [
        "df['Category'].unique()"
      ],
      "metadata": {
        "colab": {
          "base_uri": "https://localhost:8080/"
        },
        "id": "7gz09J9j883w",
        "outputId": "dd6ec05d-4110-4af5-8144-bdb69832c23a"
      },
      "execution_count": null,
      "outputs": [
        {
          "output_type": "execute_result",
          "data": {
            "text/plain": [
              "array(['cereals and tubers', 'miscellaneous food', 'oil and fats',\n",
              "       'pulses and nuts', 'vegetables and fruits', 'milk and dairy'],\n",
              "      dtype=object)"
            ]
          },
          "metadata": {},
          "execution_count": 24
        }
      ]
    },
    {
      "cell_type": "code",
      "source": [
        "df['Category'] = lben.fit_transform(df['Category'])"
      ],
      "metadata": {
        "id": "070-KpPj9Rvy"
      },
      "execution_count": null,
      "outputs": []
    },
    {
      "cell_type": "code",
      "source": [
        "df['Category'].unique()"
      ],
      "metadata": {
        "colab": {
          "base_uri": "https://localhost:8080/"
        },
        "id": "6nvLQgrx9msf",
        "outputId": "4f0c0894-7c45-4e15-c7fd-48a58b75a7d4"
      },
      "execution_count": null,
      "outputs": [
        {
          "output_type": "execute_result",
          "data": {
            "text/plain": [
              "array([0, 2, 3, 4, 5, 1])"
            ]
          },
          "metadata": {},
          "execution_count": 26
        }
      ]
    },
    {
      "cell_type": "code",
      "source": [
        "df['Category'].dtype"
      ],
      "metadata": {
        "colab": {
          "base_uri": "https://localhost:8080/"
        },
        "id": "CKV-rFUO90-O",
        "outputId": "831b68be-1e71-44fe-8be4-6880954a1537"
      },
      "execution_count": null,
      "outputs": [
        {
          "output_type": "execute_result",
          "data": {
            "text/plain": [
              "dtype('int64')"
            ]
          },
          "metadata": {},
          "execution_count": 27
        }
      ]
    },
    {
      "cell_type": "markdown",
      "source": [
        "\n",
        "# **Commodity**\n",
        "\n",
        "---\n",
        "\n",
        "\n"
      ],
      "metadata": {
        "id": "C9VN_EkI96FW"
      }
    },
    {
      "cell_type": "code",
      "source": [
        "df['Commodity'].unique()"
      ],
      "metadata": {
        "colab": {
          "base_uri": "https://localhost:8080/"
        },
        "id": "XtF-svmP-eMl",
        "outputId": "10d2223b-8759-4ef9-bcab-71e8f87aa361"
      },
      "execution_count": null,
      "outputs": [
        {
          "output_type": "execute_result",
          "data": {
            "text/plain": [
              "array(['Rice', 'Wheat', 'Sugar', 'Oil (mustard)', 'Potatoes', 'Chickpeas',\n",
              "       'Onions', 'Milk', 'Wheat flour', 'Milk (pasteurized)',\n",
              "       'Salt (iodised)', 'Oil (groundnut)', 'Oil (palm)',\n",
              "       'Oil (sunflower)', 'Lentils (masur)', 'Tomatoes', 'Tea (black)',\n",
              "       'Lentils', 'Sugar (jaggery/gur)', 'Ghee (vanaspati)',\n",
              "       'Lentils (moong)', 'Lentils (urad)', 'Oil (soybean)'], dtype=object)"
            ]
          },
          "metadata": {},
          "execution_count": 28
        }
      ]
    },
    {
      "cell_type": "code",
      "source": [
        "len(df['Commodity'].unique())"
      ],
      "metadata": {
        "colab": {
          "base_uri": "https://localhost:8080/"
        },
        "id": "zHktEC4H-qk1",
        "outputId": "bf30abda-30f3-440f-e639-1c3350f3f85b"
      },
      "execution_count": null,
      "outputs": [
        {
          "output_type": "execute_result",
          "data": {
            "text/plain": [
              "23"
            ]
          },
          "metadata": {},
          "execution_count": 29
        }
      ]
    },
    {
      "cell_type": "code",
      "source": [
        "df['Commodity'] = lben.fit_transform(df['Commodity'])"
      ],
      "metadata": {
        "id": "1WfKnOw3-yUr"
      },
      "execution_count": null,
      "outputs": []
    },
    {
      "cell_type": "code",
      "source": [
        "df['Commodity'].unique()"
      ],
      "metadata": {
        "colab": {
          "base_uri": "https://localhost:8080/"
        },
        "id": "V6zwXpx6_D77",
        "outputId": "ce669ee7-ff65-4c7d-e112-ac2a81854e94"
      },
      "execution_count": null,
      "outputs": [
        {
          "output_type": "execute_result",
          "data": {
            "text/plain": [
              "array([15, 21, 17,  9, 14,  0, 13,  6, 22,  7, 16,  8, 10, 12,  3, 20, 19,\n",
              "        2, 18,  1,  4,  5, 11])"
            ]
          },
          "metadata": {},
          "execution_count": 31
        }
      ]
    },
    {
      "cell_type": "code",
      "source": [
        "df['Commodity'].dtype"
      ],
      "metadata": {
        "colab": {
          "base_uri": "https://localhost:8080/"
        },
        "id": "cHNYJTb4_WDa",
        "outputId": "ee50487e-26e2-4d04-923c-cbabd4d94aa0"
      },
      "execution_count": null,
      "outputs": [
        {
          "output_type": "execute_result",
          "data": {
            "text/plain": [
              "dtype('int64')"
            ]
          },
          "metadata": {},
          "execution_count": 32
        }
      ]
    },
    {
      "cell_type": "markdown",
      "source": [
        "# **Unit**\n",
        "\n",
        "---\n",
        "\n"
      ],
      "metadata": {
        "id": "UFkHbGGZ_dHi"
      }
    },
    {
      "cell_type": "code",
      "source": [
        "df['Unit'].unique()"
      ],
      "metadata": {
        "colab": {
          "base_uri": "https://localhost:8080/"
        },
        "id": "OZA5DspG_1g4",
        "outputId": "666bee9c-18f7-4381-d286-5d09f2c45b93"
      },
      "execution_count": null,
      "outputs": [
        {
          "output_type": "execute_result",
          "data": {
            "text/plain": [
              "array(['KG', '100 KG', 'L'], dtype=object)"
            ]
          },
          "metadata": {},
          "execution_count": 33
        }
      ]
    },
    {
      "cell_type": "code",
      "source": [
        "KG =df['Unit'][df['Unit'] == \"KG\"].count()\n",
        "Kg_100 = df['Unit'][df['Unit'] == \"100 KG\"].count()\n",
        "L = df['Unit'][df['Unit'] == \"L\"].count()\n",
        "print(f'KG = {KG} , 100 KG = {Kg_100}, L = {L}')"
      ],
      "metadata": {
        "colab": {
          "base_uri": "https://localhost:8080/"
        },
        "id": "N8xAZU-aBPic",
        "outputId": "ca3309a6-53cc-48d6-c38e-09c747ff517d"
      },
      "execution_count": null,
      "outputs": [
        {
          "output_type": "stream",
          "name": "stdout",
          "text": [
            "KG = 128372 , 100 KG = 2267, L = 7320\n"
          ]
        }
      ]
    },
    {
      "cell_type": "code",
      "source": [
        "df['Price'][df['Unit'] == \"100 KG\"]"
      ],
      "metadata": {
        "colab": {
          "base_uri": "https://localhost:8080/"
        },
        "id": "7Pr7cZpPGqal",
        "outputId": "125e9a69-ebd8-4035-b685-95a9e1e08aab"
      },
      "execution_count": null,
      "outputs": [
        {
          "output_type": "execute_result",
          "data": {
            "text/plain": [
              "Date\n",
              "2000-01-15     800.0\n",
              "2000-01-15     800.0\n",
              "2000-01-15    1075.0\n",
              "2000-01-15     700.0\n",
              "2000-01-15    1136.5\n",
              "               ...  \n",
              "2020-10-15    2400.0\n",
              "2020-10-15    2775.0\n",
              "2020-10-15    3311.1\n",
              "2020-10-15    4780.0\n",
              "2020-10-15    3140.0\n",
              "Name: Price, Length: 2267, dtype: float64"
            ]
          },
          "metadata": {},
          "execution_count": 35
        }
      ]
    },
    {
      "cell_type": "code",
      "source": [
        "df[df['Unit'] == \"100 KG\"]"
      ],
      "metadata": {
        "colab": {
          "base_uri": "https://localhost:8080/",
          "height": 455
        },
        "id": "1hxR7rPVK_aw",
        "outputId": "dd774c3d-9609-413e-8e03-0433cd3e2073"
      },
      "execution_count": null,
      "outputs": [
        {
          "output_type": "execute_result",
          "data": {
            "text/html": [
              "\n",
              "  <div id=\"df-83e12bb3-1a67-4995-8a48-d46967432c94\">\n",
              "    <div class=\"colab-df-container\">\n",
              "      <div>\n",
              "<style scoped>\n",
              "    .dataframe tbody tr th:only-of-type {\n",
              "        vertical-align: middle;\n",
              "    }\n",
              "\n",
              "    .dataframe tbody tr th {\n",
              "        vertical-align: top;\n",
              "    }\n",
              "\n",
              "    .dataframe thead th {\n",
              "        text-align: right;\n",
              "    }\n",
              "</style>\n",
              "<table border=\"1\" class=\"dataframe\">\n",
              "  <thead>\n",
              "    <tr style=\"text-align: right;\">\n",
              "      <th></th>\n",
              "      <th>Market</th>\n",
              "      <th>Category</th>\n",
              "      <th>Commodity</th>\n",
              "      <th>Unit</th>\n",
              "      <th>PriceFlag</th>\n",
              "      <th>PriceType</th>\n",
              "      <th>Currency</th>\n",
              "      <th>Price</th>\n",
              "      <th>USD_Price</th>\n",
              "    </tr>\n",
              "    <tr>\n",
              "      <th>Date</th>\n",
              "      <th></th>\n",
              "      <th></th>\n",
              "      <th></th>\n",
              "      <th></th>\n",
              "      <th></th>\n",
              "      <th></th>\n",
              "      <th></th>\n",
              "      <th></th>\n",
              "      <th></th>\n",
              "    </tr>\n",
              "  </thead>\n",
              "  <tbody>\n",
              "    <tr>\n",
              "      <th>2000-01-15</th>\n",
              "      <td>113</td>\n",
              "      <td>0</td>\n",
              "      <td>15</td>\n",
              "      <td>100 KG</td>\n",
              "      <td>actual</td>\n",
              "      <td>Wholesale</td>\n",
              "      <td>INR</td>\n",
              "      <td>800.0</td>\n",
              "      <td>18.3697</td>\n",
              "    </tr>\n",
              "    <tr>\n",
              "      <th>2000-01-15</th>\n",
              "      <td>113</td>\n",
              "      <td>0</td>\n",
              "      <td>21</td>\n",
              "      <td>100 KG</td>\n",
              "      <td>actual</td>\n",
              "      <td>Wholesale</td>\n",
              "      <td>INR</td>\n",
              "      <td>800.0</td>\n",
              "      <td>18.3697</td>\n",
              "    </tr>\n",
              "    <tr>\n",
              "      <th>2000-01-15</th>\n",
              "      <td>42</td>\n",
              "      <td>0</td>\n",
              "      <td>15</td>\n",
              "      <td>100 KG</td>\n",
              "      <td>actual</td>\n",
              "      <td>Wholesale</td>\n",
              "      <td>INR</td>\n",
              "      <td>1075.0</td>\n",
              "      <td>24.6843</td>\n",
              "    </tr>\n",
              "    <tr>\n",
              "      <th>2000-01-15</th>\n",
              "      <td>42</td>\n",
              "      <td>0</td>\n",
              "      <td>21</td>\n",
              "      <td>100 KG</td>\n",
              "      <td>actual</td>\n",
              "      <td>Wholesale</td>\n",
              "      <td>INR</td>\n",
              "      <td>700.0</td>\n",
              "      <td>16.0735</td>\n",
              "    </tr>\n",
              "    <tr>\n",
              "      <th>2000-01-15</th>\n",
              "      <td>102</td>\n",
              "      <td>0</td>\n",
              "      <td>15</td>\n",
              "      <td>100 KG</td>\n",
              "      <td>actual</td>\n",
              "      <td>Wholesale</td>\n",
              "      <td>INR</td>\n",
              "      <td>1136.5</td>\n",
              "      <td>26.0964</td>\n",
              "    </tr>\n",
              "    <tr>\n",
              "      <th>...</th>\n",
              "      <td>...</td>\n",
              "      <td>...</td>\n",
              "      <td>...</td>\n",
              "      <td>...</td>\n",
              "      <td>...</td>\n",
              "      <td>...</td>\n",
              "      <td>...</td>\n",
              "      <td>...</td>\n",
              "      <td>...</td>\n",
              "    </tr>\n",
              "    <tr>\n",
              "      <th>2020-10-15</th>\n",
              "      <td>102</td>\n",
              "      <td>0</td>\n",
              "      <td>15</td>\n",
              "      <td>100 KG</td>\n",
              "      <td>actual</td>\n",
              "      <td>Wholesale</td>\n",
              "      <td>INR</td>\n",
              "      <td>2400.0</td>\n",
              "      <td>32.6619</td>\n",
              "    </tr>\n",
              "    <tr>\n",
              "      <th>2020-10-15</th>\n",
              "      <td>102</td>\n",
              "      <td>0</td>\n",
              "      <td>21</td>\n",
              "      <td>100 KG</td>\n",
              "      <td>actual</td>\n",
              "      <td>Wholesale</td>\n",
              "      <td>INR</td>\n",
              "      <td>2775.0</td>\n",
              "      <td>37.7654</td>\n",
              "    </tr>\n",
              "    <tr>\n",
              "      <th>2020-10-15</th>\n",
              "      <td>102</td>\n",
              "      <td>2</td>\n",
              "      <td>17</td>\n",
              "      <td>100 KG</td>\n",
              "      <td>actual</td>\n",
              "      <td>Wholesale</td>\n",
              "      <td>INR</td>\n",
              "      <td>3311.1</td>\n",
              "      <td>45.0612</td>\n",
              "    </tr>\n",
              "    <tr>\n",
              "      <th>2020-10-15</th>\n",
              "      <td>35</td>\n",
              "      <td>0</td>\n",
              "      <td>15</td>\n",
              "      <td>100 KG</td>\n",
              "      <td>actual</td>\n",
              "      <td>Wholesale</td>\n",
              "      <td>INR</td>\n",
              "      <td>4780.0</td>\n",
              "      <td>65.0517</td>\n",
              "    </tr>\n",
              "    <tr>\n",
              "      <th>2020-10-15</th>\n",
              "      <td>35</td>\n",
              "      <td>0</td>\n",
              "      <td>21</td>\n",
              "      <td>100 KG</td>\n",
              "      <td>actual</td>\n",
              "      <td>Wholesale</td>\n",
              "      <td>INR</td>\n",
              "      <td>3140.0</td>\n",
              "      <td>42.7327</td>\n",
              "    </tr>\n",
              "  </tbody>\n",
              "</table>\n",
              "<p>2267 rows × 9 columns</p>\n",
              "</div>\n",
              "      <button class=\"colab-df-convert\" onclick=\"convertToInteractive('df-83e12bb3-1a67-4995-8a48-d46967432c94')\"\n",
              "              title=\"Convert this dataframe to an interactive table.\"\n",
              "              style=\"display:none;\">\n",
              "        \n",
              "  <svg xmlns=\"http://www.w3.org/2000/svg\" height=\"24px\"viewBox=\"0 0 24 24\"\n",
              "       width=\"24px\">\n",
              "    <path d=\"M0 0h24v24H0V0z\" fill=\"none\"/>\n",
              "    <path d=\"M18.56 5.44l.94 2.06.94-2.06 2.06-.94-2.06-.94-.94-2.06-.94 2.06-2.06.94zm-11 1L8.5 8.5l.94-2.06 2.06-.94-2.06-.94L8.5 2.5l-.94 2.06-2.06.94zm10 10l.94 2.06.94-2.06 2.06-.94-2.06-.94-.94-2.06-.94 2.06-2.06.94z\"/><path d=\"M17.41 7.96l-1.37-1.37c-.4-.4-.92-.59-1.43-.59-.52 0-1.04.2-1.43.59L10.3 9.45l-7.72 7.72c-.78.78-.78 2.05 0 2.83L4 21.41c.39.39.9.59 1.41.59.51 0 1.02-.2 1.41-.59l7.78-7.78 2.81-2.81c.8-.78.8-2.07 0-2.86zM5.41 20L4 18.59l7.72-7.72 1.47 1.35L5.41 20z\"/>\n",
              "  </svg>\n",
              "      </button>\n",
              "      \n",
              "  <style>\n",
              "    .colab-df-container {\n",
              "      display:flex;\n",
              "      flex-wrap:wrap;\n",
              "      gap: 12px;\n",
              "    }\n",
              "\n",
              "    .colab-df-convert {\n",
              "      background-color: #E8F0FE;\n",
              "      border: none;\n",
              "      border-radius: 50%;\n",
              "      cursor: pointer;\n",
              "      display: none;\n",
              "      fill: #1967D2;\n",
              "      height: 32px;\n",
              "      padding: 0 0 0 0;\n",
              "      width: 32px;\n",
              "    }\n",
              "\n",
              "    .colab-df-convert:hover {\n",
              "      background-color: #E2EBFA;\n",
              "      box-shadow: 0px 1px 2px rgba(60, 64, 67, 0.3), 0px 1px 3px 1px rgba(60, 64, 67, 0.15);\n",
              "      fill: #174EA6;\n",
              "    }\n",
              "\n",
              "    [theme=dark] .colab-df-convert {\n",
              "      background-color: #3B4455;\n",
              "      fill: #D2E3FC;\n",
              "    }\n",
              "\n",
              "    [theme=dark] .colab-df-convert:hover {\n",
              "      background-color: #434B5C;\n",
              "      box-shadow: 0px 1px 3px 1px rgba(0, 0, 0, 0.15);\n",
              "      filter: drop-shadow(0px 1px 2px rgba(0, 0, 0, 0.3));\n",
              "      fill: #FFFFFF;\n",
              "    }\n",
              "  </style>\n",
              "\n",
              "      <script>\n",
              "        const buttonEl =\n",
              "          document.querySelector('#df-83e12bb3-1a67-4995-8a48-d46967432c94 button.colab-df-convert');\n",
              "        buttonEl.style.display =\n",
              "          google.colab.kernel.accessAllowed ? 'block' : 'none';\n",
              "\n",
              "        async function convertToInteractive(key) {\n",
              "          const element = document.querySelector('#df-83e12bb3-1a67-4995-8a48-d46967432c94');\n",
              "          const dataTable =\n",
              "            await google.colab.kernel.invokeFunction('convertToInteractive',\n",
              "                                                     [key], {});\n",
              "          if (!dataTable) return;\n",
              "\n",
              "          const docLinkHtml = 'Like what you see? Visit the ' +\n",
              "            '<a target=\"_blank\" href=https://colab.research.google.com/notebooks/data_table.ipynb>data table notebook</a>'\n",
              "            + ' to learn more about interactive tables.';\n",
              "          element.innerHTML = '';\n",
              "          dataTable['output_type'] = 'display_data';\n",
              "          await google.colab.output.renderOutput(dataTable, element);\n",
              "          const docLink = document.createElement('div');\n",
              "          docLink.innerHTML = docLinkHtml;\n",
              "          element.appendChild(docLink);\n",
              "        }\n",
              "      </script>\n",
              "    </div>\n",
              "  </div>\n",
              "  "
            ],
            "text/plain": [
              "            Market  Category  Commodity  ... Currency   Price USD_Price\n",
              "Date                                     ...                           \n",
              "2000-01-15     113         0         15  ...      INR   800.0   18.3697\n",
              "2000-01-15     113         0         21  ...      INR   800.0   18.3697\n",
              "2000-01-15      42         0         15  ...      INR  1075.0   24.6843\n",
              "2000-01-15      42         0         21  ...      INR   700.0   16.0735\n",
              "2000-01-15     102         0         15  ...      INR  1136.5   26.0964\n",
              "...            ...       ...        ...  ...      ...     ...       ...\n",
              "2020-10-15     102         0         15  ...      INR  2400.0   32.6619\n",
              "2020-10-15     102         0         21  ...      INR  2775.0   37.7654\n",
              "2020-10-15     102         2         17  ...      INR  3311.1   45.0612\n",
              "2020-10-15      35         0         15  ...      INR  4780.0   65.0517\n",
              "2020-10-15      35         0         21  ...      INR  3140.0   42.7327\n",
              "\n",
              "[2267 rows x 9 columns]"
            ]
          },
          "metadata": {},
          "execution_count": 36
        }
      ]
    },
    {
      "cell_type": "code",
      "source": [],
      "metadata": {
        "id": "-pnyH2dzvDrZ"
      },
      "execution_count": null,
      "outputs": []
    },
    {
      "cell_type": "code",
      "source": [
        "df['Unit'] = df['Unit'].apply(lambda x: x.replace(\"KG\" , \"0\") if x == \"KG\" else x)"
      ],
      "metadata": {
        "id": "BLJiQiOvYf92"
      },
      "execution_count": null,
      "outputs": []
    },
    {
      "cell_type": "code",
      "source": [
        "df['Unit'] = df['Unit'].apply(lambda x: x.replace(\"100 KG\" , \"1\") if x == \"100 KG\" else x)"
      ],
      "metadata": {
        "id": "rL0WP8bPdcnV"
      },
      "execution_count": null,
      "outputs": []
    },
    {
      "cell_type": "code",
      "source": [
        "df['Unit'] = df['Unit'].apply(lambda x: x.replace(\"L\" , \"2\") if x == \"L\" else x)"
      ],
      "metadata": {
        "id": "921kAsnmdv_x"
      },
      "execution_count": null,
      "outputs": []
    },
    {
      "cell_type": "code",
      "source": [
        "df['Unit'] = df['Unit'].apply(lambda x: int(x))"
      ],
      "metadata": {
        "id": "9hY2tZLmeFdJ"
      },
      "execution_count": null,
      "outputs": []
    },
    {
      "cell_type": "code",
      "source": [
        "df['Unit'].unique()"
      ],
      "metadata": {
        "colab": {
          "base_uri": "https://localhost:8080/"
        },
        "id": "pqQfUvmdeR7Y",
        "outputId": "f94a4234-0db1-4e98-db5b-b51c920477a1"
      },
      "execution_count": null,
      "outputs": [
        {
          "output_type": "execute_result",
          "data": {
            "text/plain": [
              "array([0, 1, 2])"
            ]
          },
          "metadata": {},
          "execution_count": 41
        }
      ]
    },
    {
      "cell_type": "code",
      "source": [
        "df['Unit'].dtype"
      ],
      "metadata": {
        "colab": {
          "base_uri": "https://localhost:8080/"
        },
        "id": "SASpKMSCegsD",
        "outputId": "e7b0c8df-4441-4a29-8527-40a3493d59be"
      },
      "execution_count": null,
      "outputs": [
        {
          "output_type": "execute_result",
          "data": {
            "text/plain": [
              "dtype('int64')"
            ]
          },
          "metadata": {},
          "execution_count": 42
        }
      ]
    },
    {
      "cell_type": "markdown",
      "source": [
        "# **PriceFlag**\n",
        "\n",
        "---\n",
        "\n"
      ],
      "metadata": {
        "id": "1AJCXzZRepWe"
      }
    },
    {
      "cell_type": "code",
      "source": [
        "df['PriceFlag'].unique()"
      ],
      "metadata": {
        "id": "9jYOJI_kfXQV",
        "colab": {
          "base_uri": "https://localhost:8080/"
        },
        "outputId": "0308cc1c-1803-48b8-d0a1-fff539a79395"
      },
      "execution_count": null,
      "outputs": [
        {
          "output_type": "execute_result",
          "data": {
            "text/plain": [
              "array(['actual'], dtype=object)"
            ]
          },
          "metadata": {},
          "execution_count": 43
        }
      ]
    },
    {
      "cell_type": "code",
      "source": [
        "df.drop(\"PriceFlag\", axis=1, inplace=True)"
      ],
      "metadata": {
        "id": "x5v5iOTmfl-K"
      },
      "execution_count": null,
      "outputs": []
    },
    {
      "cell_type": "code",
      "source": [
        "df.head()"
      ],
      "metadata": {
        "colab": {
          "base_uri": "https://localhost:8080/",
          "height": 237
        },
        "id": "59ppFDRqfyx4",
        "outputId": "0e18f599-be12-40ab-90e9-772aa66efd69"
      },
      "execution_count": null,
      "outputs": [
        {
          "output_type": "execute_result",
          "data": {
            "text/html": [
              "\n",
              "  <div id=\"df-d195e676-ed4b-4bd6-be70-7212f212b2fb\">\n",
              "    <div class=\"colab-df-container\">\n",
              "      <div>\n",
              "<style scoped>\n",
              "    .dataframe tbody tr th:only-of-type {\n",
              "        vertical-align: middle;\n",
              "    }\n",
              "\n",
              "    .dataframe tbody tr th {\n",
              "        vertical-align: top;\n",
              "    }\n",
              "\n",
              "    .dataframe thead th {\n",
              "        text-align: right;\n",
              "    }\n",
              "</style>\n",
              "<table border=\"1\" class=\"dataframe\">\n",
              "  <thead>\n",
              "    <tr style=\"text-align: right;\">\n",
              "      <th></th>\n",
              "      <th>Market</th>\n",
              "      <th>Category</th>\n",
              "      <th>Commodity</th>\n",
              "      <th>Unit</th>\n",
              "      <th>PriceType</th>\n",
              "      <th>Currency</th>\n",
              "      <th>Price</th>\n",
              "      <th>USD_Price</th>\n",
              "    </tr>\n",
              "    <tr>\n",
              "      <th>Date</th>\n",
              "      <th></th>\n",
              "      <th></th>\n",
              "      <th></th>\n",
              "      <th></th>\n",
              "      <th></th>\n",
              "      <th></th>\n",
              "      <th></th>\n",
              "      <th></th>\n",
              "    </tr>\n",
              "  </thead>\n",
              "  <tbody>\n",
              "    <tr>\n",
              "      <th>1994-01-15</th>\n",
              "      <td>42</td>\n",
              "      <td>0</td>\n",
              "      <td>15</td>\n",
              "      <td>0</td>\n",
              "      <td>Retail</td>\n",
              "      <td>INR</td>\n",
              "      <td>8.0</td>\n",
              "      <td>0.2545</td>\n",
              "    </tr>\n",
              "    <tr>\n",
              "      <th>1994-01-15</th>\n",
              "      <td>42</td>\n",
              "      <td>0</td>\n",
              "      <td>21</td>\n",
              "      <td>0</td>\n",
              "      <td>Retail</td>\n",
              "      <td>INR</td>\n",
              "      <td>5.0</td>\n",
              "      <td>0.1590</td>\n",
              "    </tr>\n",
              "    <tr>\n",
              "      <th>1994-01-15</th>\n",
              "      <td>42</td>\n",
              "      <td>2</td>\n",
              "      <td>17</td>\n",
              "      <td>0</td>\n",
              "      <td>Retail</td>\n",
              "      <td>INR</td>\n",
              "      <td>13.5</td>\n",
              "      <td>0.4294</td>\n",
              "    </tr>\n",
              "    <tr>\n",
              "      <th>1994-01-15</th>\n",
              "      <td>42</td>\n",
              "      <td>3</td>\n",
              "      <td>9</td>\n",
              "      <td>0</td>\n",
              "      <td>Retail</td>\n",
              "      <td>INR</td>\n",
              "      <td>31.0</td>\n",
              "      <td>0.9860</td>\n",
              "    </tr>\n",
              "    <tr>\n",
              "      <th>1994-01-15</th>\n",
              "      <td>3</td>\n",
              "      <td>0</td>\n",
              "      <td>15</td>\n",
              "      <td>0</td>\n",
              "      <td>Retail</td>\n",
              "      <td>INR</td>\n",
              "      <td>6.8</td>\n",
              "      <td>0.2163</td>\n",
              "    </tr>\n",
              "  </tbody>\n",
              "</table>\n",
              "</div>\n",
              "      <button class=\"colab-df-convert\" onclick=\"convertToInteractive('df-d195e676-ed4b-4bd6-be70-7212f212b2fb')\"\n",
              "              title=\"Convert this dataframe to an interactive table.\"\n",
              "              style=\"display:none;\">\n",
              "        \n",
              "  <svg xmlns=\"http://www.w3.org/2000/svg\" height=\"24px\"viewBox=\"0 0 24 24\"\n",
              "       width=\"24px\">\n",
              "    <path d=\"M0 0h24v24H0V0z\" fill=\"none\"/>\n",
              "    <path d=\"M18.56 5.44l.94 2.06.94-2.06 2.06-.94-2.06-.94-.94-2.06-.94 2.06-2.06.94zm-11 1L8.5 8.5l.94-2.06 2.06-.94-2.06-.94L8.5 2.5l-.94 2.06-2.06.94zm10 10l.94 2.06.94-2.06 2.06-.94-2.06-.94-.94-2.06-.94 2.06-2.06.94z\"/><path d=\"M17.41 7.96l-1.37-1.37c-.4-.4-.92-.59-1.43-.59-.52 0-1.04.2-1.43.59L10.3 9.45l-7.72 7.72c-.78.78-.78 2.05 0 2.83L4 21.41c.39.39.9.59 1.41.59.51 0 1.02-.2 1.41-.59l7.78-7.78 2.81-2.81c.8-.78.8-2.07 0-2.86zM5.41 20L4 18.59l7.72-7.72 1.47 1.35L5.41 20z\"/>\n",
              "  </svg>\n",
              "      </button>\n",
              "      \n",
              "  <style>\n",
              "    .colab-df-container {\n",
              "      display:flex;\n",
              "      flex-wrap:wrap;\n",
              "      gap: 12px;\n",
              "    }\n",
              "\n",
              "    .colab-df-convert {\n",
              "      background-color: #E8F0FE;\n",
              "      border: none;\n",
              "      border-radius: 50%;\n",
              "      cursor: pointer;\n",
              "      display: none;\n",
              "      fill: #1967D2;\n",
              "      height: 32px;\n",
              "      padding: 0 0 0 0;\n",
              "      width: 32px;\n",
              "    }\n",
              "\n",
              "    .colab-df-convert:hover {\n",
              "      background-color: #E2EBFA;\n",
              "      box-shadow: 0px 1px 2px rgba(60, 64, 67, 0.3), 0px 1px 3px 1px rgba(60, 64, 67, 0.15);\n",
              "      fill: #174EA6;\n",
              "    }\n",
              "\n",
              "    [theme=dark] .colab-df-convert {\n",
              "      background-color: #3B4455;\n",
              "      fill: #D2E3FC;\n",
              "    }\n",
              "\n",
              "    [theme=dark] .colab-df-convert:hover {\n",
              "      background-color: #434B5C;\n",
              "      box-shadow: 0px 1px 3px 1px rgba(0, 0, 0, 0.15);\n",
              "      filter: drop-shadow(0px 1px 2px rgba(0, 0, 0, 0.3));\n",
              "      fill: #FFFFFF;\n",
              "    }\n",
              "  </style>\n",
              "\n",
              "      <script>\n",
              "        const buttonEl =\n",
              "          document.querySelector('#df-d195e676-ed4b-4bd6-be70-7212f212b2fb button.colab-df-convert');\n",
              "        buttonEl.style.display =\n",
              "          google.colab.kernel.accessAllowed ? 'block' : 'none';\n",
              "\n",
              "        async function convertToInteractive(key) {\n",
              "          const element = document.querySelector('#df-d195e676-ed4b-4bd6-be70-7212f212b2fb');\n",
              "          const dataTable =\n",
              "            await google.colab.kernel.invokeFunction('convertToInteractive',\n",
              "                                                     [key], {});\n",
              "          if (!dataTable) return;\n",
              "\n",
              "          const docLinkHtml = 'Like what you see? Visit the ' +\n",
              "            '<a target=\"_blank\" href=https://colab.research.google.com/notebooks/data_table.ipynb>data table notebook</a>'\n",
              "            + ' to learn more about interactive tables.';\n",
              "          element.innerHTML = '';\n",
              "          dataTable['output_type'] = 'display_data';\n",
              "          await google.colab.output.renderOutput(dataTable, element);\n",
              "          const docLink = document.createElement('div');\n",
              "          docLink.innerHTML = docLinkHtml;\n",
              "          element.appendChild(docLink);\n",
              "        }\n",
              "      </script>\n",
              "    </div>\n",
              "  </div>\n",
              "  "
            ],
            "text/plain": [
              "            Market  Category  Commodity  ...  Currency Price USD_Price\n",
              "Date                                     ...                          \n",
              "1994-01-15      42         0         15  ...       INR   8.0    0.2545\n",
              "1994-01-15      42         0         21  ...       INR   5.0    0.1590\n",
              "1994-01-15      42         2         17  ...       INR  13.5    0.4294\n",
              "1994-01-15      42         3          9  ...       INR  31.0    0.9860\n",
              "1994-01-15       3         0         15  ...       INR   6.8    0.2163\n",
              "\n",
              "[5 rows x 8 columns]"
            ]
          },
          "metadata": {},
          "execution_count": 45
        }
      ]
    },
    {
      "cell_type": "markdown",
      "source": [
        "# **PriceType**\n",
        "\n",
        "---\n",
        "\n"
      ],
      "metadata": {
        "id": "GyvdOw12gJGp"
      }
    },
    {
      "cell_type": "code",
      "source": [
        "df['PriceType'].unique()"
      ],
      "metadata": {
        "colab": {
          "base_uri": "https://localhost:8080/"
        },
        "id": "P6VwClPrgTgA",
        "outputId": "038aa674-306b-4fa7-c174-80fa4a89251d"
      },
      "execution_count": null,
      "outputs": [
        {
          "output_type": "execute_result",
          "data": {
            "text/plain": [
              "array(['Retail', 'Wholesale'], dtype=object)"
            ]
          },
          "metadata": {},
          "execution_count": 46
        }
      ]
    },
    {
      "cell_type": "code",
      "source": [
        "df['PriceType'] = df['PriceType'].apply(lambda x: x.replace('Retail', '0') if x == 'Retail' else x)"
      ],
      "metadata": {
        "id": "Um9Y26H3gnvG"
      },
      "execution_count": null,
      "outputs": []
    },
    {
      "cell_type": "code",
      "source": [
        "df['PriceType'] = df['PriceType'].apply(lambda x: x.replace('Wholesale', '1') if x == 'Wholesale' else x)"
      ],
      "metadata": {
        "id": "RhtgazpJhOwd"
      },
      "execution_count": null,
      "outputs": []
    },
    {
      "cell_type": "code",
      "source": [],
      "metadata": {
        "id": "klEjU36S2iXo"
      },
      "execution_count": null,
      "outputs": []
    },
    {
      "cell_type": "code",
      "source": [
        "df['PriceType'] = df['PriceType'].apply(lambda x: int(x))"
      ],
      "metadata": {
        "id": "0nnXtdKVhki7"
      },
      "execution_count": null,
      "outputs": []
    },
    {
      "cell_type": "code",
      "source": [
        "df['PriceType'].unique()"
      ],
      "metadata": {
        "colab": {
          "base_uri": "https://localhost:8080/"
        },
        "id": "QuU6kc2FiAhz",
        "outputId": "960c0c76-4d88-46a9-c101-326b32a4149d"
      },
      "execution_count": null,
      "outputs": [
        {
          "output_type": "execute_result",
          "data": {
            "text/plain": [
              "array(['Retail', 'Wholesale'], dtype=object)"
            ]
          },
          "metadata": {},
          "execution_count": 16
        }
      ]
    },
    {
      "cell_type": "code",
      "source": [
        "df['Price'][df['Price'] > 200].count()"
      ],
      "metadata": {
        "colab": {
          "base_uri": "https://localhost:8080/"
        },
        "id": "zLKIWlImQCp5",
        "outputId": "8e16ca15-5586-4bd8-b602-eb13e00a60c0"
      },
      "execution_count": null,
      "outputs": [
        {
          "output_type": "execute_result",
          "data": {
            "text/plain": [
              "5992"
            ]
          },
          "metadata": {},
          "execution_count": 21
        }
      ]
    },
    {
      "cell_type": "markdown",
      "source": [
        "# **Currency**\n",
        "\n",
        "---\n",
        "\n"
      ],
      "metadata": {
        "id": "mBGX0PgJiMHo"
      }
    },
    {
      "cell_type": "code",
      "source": [
        "df['Currency'].unique()"
      ],
      "metadata": {
        "colab": {
          "base_uri": "https://localhost:8080/"
        },
        "id": "gBGld3s2iZtK",
        "outputId": "64f0140d-682b-4a51-bb2e-dbd65de89601"
      },
      "execution_count": null,
      "outputs": [
        {
          "output_type": "execute_result",
          "data": {
            "text/plain": [
              "array(['INR'], dtype=object)"
            ]
          },
          "metadata": {},
          "execution_count": 51
        }
      ]
    },
    {
      "cell_type": "code",
      "source": [
        "df.drop('Currency', axis=1, inplace=True)"
      ],
      "metadata": {
        "id": "neqOfIYrjDtg"
      },
      "execution_count": null,
      "outputs": []
    },
    {
      "cell_type": "code",
      "source": [
        "df.head()"
      ],
      "metadata": {
        "colab": {
          "base_uri": "https://localhost:8080/",
          "height": 237
        },
        "id": "FRfS8EZdkI2r",
        "outputId": "1353ed28-498f-4771-caea-1f4b0acb1a79"
      },
      "execution_count": null,
      "outputs": [
        {
          "output_type": "execute_result",
          "data": {
            "text/html": [
              "\n",
              "  <div id=\"df-f86066a1-42aa-429a-9f92-2d91147a9e75\">\n",
              "    <div class=\"colab-df-container\">\n",
              "      <div>\n",
              "<style scoped>\n",
              "    .dataframe tbody tr th:only-of-type {\n",
              "        vertical-align: middle;\n",
              "    }\n",
              "\n",
              "    .dataframe tbody tr th {\n",
              "        vertical-align: top;\n",
              "    }\n",
              "\n",
              "    .dataframe thead th {\n",
              "        text-align: right;\n",
              "    }\n",
              "</style>\n",
              "<table border=\"1\" class=\"dataframe\">\n",
              "  <thead>\n",
              "    <tr style=\"text-align: right;\">\n",
              "      <th></th>\n",
              "      <th>Market</th>\n",
              "      <th>Category</th>\n",
              "      <th>Commodity</th>\n",
              "      <th>Unit</th>\n",
              "      <th>PriceType</th>\n",
              "      <th>Price</th>\n",
              "      <th>USD_Price</th>\n",
              "    </tr>\n",
              "    <tr>\n",
              "      <th>Date</th>\n",
              "      <th></th>\n",
              "      <th></th>\n",
              "      <th></th>\n",
              "      <th></th>\n",
              "      <th></th>\n",
              "      <th></th>\n",
              "      <th></th>\n",
              "    </tr>\n",
              "  </thead>\n",
              "  <tbody>\n",
              "    <tr>\n",
              "      <th>1994-01-15</th>\n",
              "      <td>42</td>\n",
              "      <td>0</td>\n",
              "      <td>15</td>\n",
              "      <td>0</td>\n",
              "      <td>0</td>\n",
              "      <td>8.0</td>\n",
              "      <td>0.2545</td>\n",
              "    </tr>\n",
              "    <tr>\n",
              "      <th>1994-01-15</th>\n",
              "      <td>42</td>\n",
              "      <td>0</td>\n",
              "      <td>21</td>\n",
              "      <td>0</td>\n",
              "      <td>0</td>\n",
              "      <td>5.0</td>\n",
              "      <td>0.1590</td>\n",
              "    </tr>\n",
              "    <tr>\n",
              "      <th>1994-01-15</th>\n",
              "      <td>42</td>\n",
              "      <td>2</td>\n",
              "      <td>17</td>\n",
              "      <td>0</td>\n",
              "      <td>0</td>\n",
              "      <td>13.5</td>\n",
              "      <td>0.4294</td>\n",
              "    </tr>\n",
              "    <tr>\n",
              "      <th>1994-01-15</th>\n",
              "      <td>42</td>\n",
              "      <td>3</td>\n",
              "      <td>9</td>\n",
              "      <td>0</td>\n",
              "      <td>0</td>\n",
              "      <td>31.0</td>\n",
              "      <td>0.9860</td>\n",
              "    </tr>\n",
              "    <tr>\n",
              "      <th>1994-01-15</th>\n",
              "      <td>3</td>\n",
              "      <td>0</td>\n",
              "      <td>15</td>\n",
              "      <td>0</td>\n",
              "      <td>0</td>\n",
              "      <td>6.8</td>\n",
              "      <td>0.2163</td>\n",
              "    </tr>\n",
              "  </tbody>\n",
              "</table>\n",
              "</div>\n",
              "      <button class=\"colab-df-convert\" onclick=\"convertToInteractive('df-f86066a1-42aa-429a-9f92-2d91147a9e75')\"\n",
              "              title=\"Convert this dataframe to an interactive table.\"\n",
              "              style=\"display:none;\">\n",
              "        \n",
              "  <svg xmlns=\"http://www.w3.org/2000/svg\" height=\"24px\"viewBox=\"0 0 24 24\"\n",
              "       width=\"24px\">\n",
              "    <path d=\"M0 0h24v24H0V0z\" fill=\"none\"/>\n",
              "    <path d=\"M18.56 5.44l.94 2.06.94-2.06 2.06-.94-2.06-.94-.94-2.06-.94 2.06-2.06.94zm-11 1L8.5 8.5l.94-2.06 2.06-.94-2.06-.94L8.5 2.5l-.94 2.06-2.06.94zm10 10l.94 2.06.94-2.06 2.06-.94-2.06-.94-.94-2.06-.94 2.06-2.06.94z\"/><path d=\"M17.41 7.96l-1.37-1.37c-.4-.4-.92-.59-1.43-.59-.52 0-1.04.2-1.43.59L10.3 9.45l-7.72 7.72c-.78.78-.78 2.05 0 2.83L4 21.41c.39.39.9.59 1.41.59.51 0 1.02-.2 1.41-.59l7.78-7.78 2.81-2.81c.8-.78.8-2.07 0-2.86zM5.41 20L4 18.59l7.72-7.72 1.47 1.35L5.41 20z\"/>\n",
              "  </svg>\n",
              "      </button>\n",
              "      \n",
              "  <style>\n",
              "    .colab-df-container {\n",
              "      display:flex;\n",
              "      flex-wrap:wrap;\n",
              "      gap: 12px;\n",
              "    }\n",
              "\n",
              "    .colab-df-convert {\n",
              "      background-color: #E8F0FE;\n",
              "      border: none;\n",
              "      border-radius: 50%;\n",
              "      cursor: pointer;\n",
              "      display: none;\n",
              "      fill: #1967D2;\n",
              "      height: 32px;\n",
              "      padding: 0 0 0 0;\n",
              "      width: 32px;\n",
              "    }\n",
              "\n",
              "    .colab-df-convert:hover {\n",
              "      background-color: #E2EBFA;\n",
              "      box-shadow: 0px 1px 2px rgba(60, 64, 67, 0.3), 0px 1px 3px 1px rgba(60, 64, 67, 0.15);\n",
              "      fill: #174EA6;\n",
              "    }\n",
              "\n",
              "    [theme=dark] .colab-df-convert {\n",
              "      background-color: #3B4455;\n",
              "      fill: #D2E3FC;\n",
              "    }\n",
              "\n",
              "    [theme=dark] .colab-df-convert:hover {\n",
              "      background-color: #434B5C;\n",
              "      box-shadow: 0px 1px 3px 1px rgba(0, 0, 0, 0.15);\n",
              "      filter: drop-shadow(0px 1px 2px rgba(0, 0, 0, 0.3));\n",
              "      fill: #FFFFFF;\n",
              "    }\n",
              "  </style>\n",
              "\n",
              "      <script>\n",
              "        const buttonEl =\n",
              "          document.querySelector('#df-f86066a1-42aa-429a-9f92-2d91147a9e75 button.colab-df-convert');\n",
              "        buttonEl.style.display =\n",
              "          google.colab.kernel.accessAllowed ? 'block' : 'none';\n",
              "\n",
              "        async function convertToInteractive(key) {\n",
              "          const element = document.querySelector('#df-f86066a1-42aa-429a-9f92-2d91147a9e75');\n",
              "          const dataTable =\n",
              "            await google.colab.kernel.invokeFunction('convertToInteractive',\n",
              "                                                     [key], {});\n",
              "          if (!dataTable) return;\n",
              "\n",
              "          const docLinkHtml = 'Like what you see? Visit the ' +\n",
              "            '<a target=\"_blank\" href=https://colab.research.google.com/notebooks/data_table.ipynb>data table notebook</a>'\n",
              "            + ' to learn more about interactive tables.';\n",
              "          element.innerHTML = '';\n",
              "          dataTable['output_type'] = 'display_data';\n",
              "          await google.colab.output.renderOutput(dataTable, element);\n",
              "          const docLink = document.createElement('div');\n",
              "          docLink.innerHTML = docLinkHtml;\n",
              "          element.appendChild(docLink);\n",
              "        }\n",
              "      </script>\n",
              "    </div>\n",
              "  </div>\n",
              "  "
            ],
            "text/plain": [
              "            Market  Category  Commodity  Unit  PriceType  Price  USD_Price\n",
              "Date                                                                      \n",
              "1994-01-15      42         0         15     0          0    8.0     0.2545\n",
              "1994-01-15      42         0         21     0          0    5.0     0.1590\n",
              "1994-01-15      42         2         17     0          0   13.5     0.4294\n",
              "1994-01-15      42         3          9     0          0   31.0     0.9860\n",
              "1994-01-15       3         0         15     0          0    6.8     0.2163"
            ]
          },
          "metadata": {},
          "execution_count": 53
        }
      ]
    },
    {
      "cell_type": "code",
      "source": [
        "df.describe().T"
      ],
      "metadata": {
        "colab": {
          "base_uri": "https://localhost:8080/",
          "height": 269
        },
        "id": "GkdQuwNHkmaM",
        "outputId": "f2eb260c-f4fd-4b3d-955c-f97ef0b89d62"
      },
      "execution_count": null,
      "outputs": [
        {
          "output_type": "execute_result",
          "data": {
            "text/html": [
              "\n",
              "  <div id=\"df-6633b0fe-2bf7-4310-9b80-e177bbb4ac93\">\n",
              "    <div class=\"colab-df-container\">\n",
              "      <div>\n",
              "<style scoped>\n",
              "    .dataframe tbody tr th:only-of-type {\n",
              "        vertical-align: middle;\n",
              "    }\n",
              "\n",
              "    .dataframe tbody tr th {\n",
              "        vertical-align: top;\n",
              "    }\n",
              "\n",
              "    .dataframe thead th {\n",
              "        text-align: right;\n",
              "    }\n",
              "</style>\n",
              "<table border=\"1\" class=\"dataframe\">\n",
              "  <thead>\n",
              "    <tr style=\"text-align: right;\">\n",
              "      <th></th>\n",
              "      <th>count</th>\n",
              "      <th>mean</th>\n",
              "      <th>std</th>\n",
              "      <th>min</th>\n",
              "      <th>25%</th>\n",
              "      <th>50%</th>\n",
              "      <th>75%</th>\n",
              "      <th>max</th>\n",
              "    </tr>\n",
              "  </thead>\n",
              "  <tbody>\n",
              "    <tr>\n",
              "      <th>Market</th>\n",
              "      <td>137959.0</td>\n",
              "      <td>76.667481</td>\n",
              "      <td>45.248166</td>\n",
              "      <td>0.0000</td>\n",
              "      <td>41.0000</td>\n",
              "      <td>74.0000</td>\n",
              "      <td>114.0000</td>\n",
              "      <td>164.0000</td>\n",
              "    </tr>\n",
              "    <tr>\n",
              "      <th>Category</th>\n",
              "      <td>137959.0</td>\n",
              "      <td>2.329409</td>\n",
              "      <td>1.650080</td>\n",
              "      <td>0.0000</td>\n",
              "      <td>1.0000</td>\n",
              "      <td>3.0000</td>\n",
              "      <td>4.0000</td>\n",
              "      <td>5.0000</td>\n",
              "    </tr>\n",
              "    <tr>\n",
              "      <th>Commodity</th>\n",
              "      <td>137959.0</td>\n",
              "      <td>12.352822</td>\n",
              "      <td>6.325432</td>\n",
              "      <td>0.0000</td>\n",
              "      <td>7.0000</td>\n",
              "      <td>13.0000</td>\n",
              "      <td>17.0000</td>\n",
              "      <td>22.0000</td>\n",
              "    </tr>\n",
              "    <tr>\n",
              "      <th>Unit</th>\n",
              "      <td>137959.0</td>\n",
              "      <td>0.122551</td>\n",
              "      <td>0.462225</td>\n",
              "      <td>0.0000</td>\n",
              "      <td>0.0000</td>\n",
              "      <td>0.0000</td>\n",
              "      <td>0.0000</td>\n",
              "      <td>2.0000</td>\n",
              "    </tr>\n",
              "    <tr>\n",
              "      <th>PriceType</th>\n",
              "      <td>137959.0</td>\n",
              "      <td>0.016432</td>\n",
              "      <td>0.127132</td>\n",
              "      <td>0.0000</td>\n",
              "      <td>0.0000</td>\n",
              "      <td>0.0000</td>\n",
              "      <td>0.0000</td>\n",
              "      <td>1.0000</td>\n",
              "    </tr>\n",
              "    <tr>\n",
              "      <th>Price</th>\n",
              "      <td>137959.0</td>\n",
              "      <td>94.647023</td>\n",
              "      <td>261.972666</td>\n",
              "      <td>2.5000</td>\n",
              "      <td>24.4700</td>\n",
              "      <td>46.0000</td>\n",
              "      <td>95.0000</td>\n",
              "      <td>4910.0000</td>\n",
              "    </tr>\n",
              "    <tr>\n",
              "      <th>USD_Price</th>\n",
              "      <td>137959.0</td>\n",
              "      <td>1.505967</td>\n",
              "      <td>4.496516</td>\n",
              "      <td>0.0563</td>\n",
              "      <td>0.3861</td>\n",
              "      <td>0.7047</td>\n",
              "      <td>1.4069</td>\n",
              "      <td>88.7788</td>\n",
              "    </tr>\n",
              "  </tbody>\n",
              "</table>\n",
              "</div>\n",
              "      <button class=\"colab-df-convert\" onclick=\"convertToInteractive('df-6633b0fe-2bf7-4310-9b80-e177bbb4ac93')\"\n",
              "              title=\"Convert this dataframe to an interactive table.\"\n",
              "              style=\"display:none;\">\n",
              "        \n",
              "  <svg xmlns=\"http://www.w3.org/2000/svg\" height=\"24px\"viewBox=\"0 0 24 24\"\n",
              "       width=\"24px\">\n",
              "    <path d=\"M0 0h24v24H0V0z\" fill=\"none\"/>\n",
              "    <path d=\"M18.56 5.44l.94 2.06.94-2.06 2.06-.94-2.06-.94-.94-2.06-.94 2.06-2.06.94zm-11 1L8.5 8.5l.94-2.06 2.06-.94-2.06-.94L8.5 2.5l-.94 2.06-2.06.94zm10 10l.94 2.06.94-2.06 2.06-.94-2.06-.94-.94-2.06-.94 2.06-2.06.94z\"/><path d=\"M17.41 7.96l-1.37-1.37c-.4-.4-.92-.59-1.43-.59-.52 0-1.04.2-1.43.59L10.3 9.45l-7.72 7.72c-.78.78-.78 2.05 0 2.83L4 21.41c.39.39.9.59 1.41.59.51 0 1.02-.2 1.41-.59l7.78-7.78 2.81-2.81c.8-.78.8-2.07 0-2.86zM5.41 20L4 18.59l7.72-7.72 1.47 1.35L5.41 20z\"/>\n",
              "  </svg>\n",
              "      </button>\n",
              "      \n",
              "  <style>\n",
              "    .colab-df-container {\n",
              "      display:flex;\n",
              "      flex-wrap:wrap;\n",
              "      gap: 12px;\n",
              "    }\n",
              "\n",
              "    .colab-df-convert {\n",
              "      background-color: #E8F0FE;\n",
              "      border: none;\n",
              "      border-radius: 50%;\n",
              "      cursor: pointer;\n",
              "      display: none;\n",
              "      fill: #1967D2;\n",
              "      height: 32px;\n",
              "      padding: 0 0 0 0;\n",
              "      width: 32px;\n",
              "    }\n",
              "\n",
              "    .colab-df-convert:hover {\n",
              "      background-color: #E2EBFA;\n",
              "      box-shadow: 0px 1px 2px rgba(60, 64, 67, 0.3), 0px 1px 3px 1px rgba(60, 64, 67, 0.15);\n",
              "      fill: #174EA6;\n",
              "    }\n",
              "\n",
              "    [theme=dark] .colab-df-convert {\n",
              "      background-color: #3B4455;\n",
              "      fill: #D2E3FC;\n",
              "    }\n",
              "\n",
              "    [theme=dark] .colab-df-convert:hover {\n",
              "      background-color: #434B5C;\n",
              "      box-shadow: 0px 1px 3px 1px rgba(0, 0, 0, 0.15);\n",
              "      filter: drop-shadow(0px 1px 2px rgba(0, 0, 0, 0.3));\n",
              "      fill: #FFFFFF;\n",
              "    }\n",
              "  </style>\n",
              "\n",
              "      <script>\n",
              "        const buttonEl =\n",
              "          document.querySelector('#df-6633b0fe-2bf7-4310-9b80-e177bbb4ac93 button.colab-df-convert');\n",
              "        buttonEl.style.display =\n",
              "          google.colab.kernel.accessAllowed ? 'block' : 'none';\n",
              "\n",
              "        async function convertToInteractive(key) {\n",
              "          const element = document.querySelector('#df-6633b0fe-2bf7-4310-9b80-e177bbb4ac93');\n",
              "          const dataTable =\n",
              "            await google.colab.kernel.invokeFunction('convertToInteractive',\n",
              "                                                     [key], {});\n",
              "          if (!dataTable) return;\n",
              "\n",
              "          const docLinkHtml = 'Like what you see? Visit the ' +\n",
              "            '<a target=\"_blank\" href=https://colab.research.google.com/notebooks/data_table.ipynb>data table notebook</a>'\n",
              "            + ' to learn more about interactive tables.';\n",
              "          element.innerHTML = '';\n",
              "          dataTable['output_type'] = 'display_data';\n",
              "          await google.colab.output.renderOutput(dataTable, element);\n",
              "          const docLink = document.createElement('div');\n",
              "          docLink.innerHTML = docLinkHtml;\n",
              "          element.appendChild(docLink);\n",
              "        }\n",
              "      </script>\n",
              "    </div>\n",
              "  </div>\n",
              "  "
            ],
            "text/plain": [
              "              count       mean         std  ...      50%       75%        max\n",
              "Market     137959.0  76.667481   45.248166  ...  74.0000  114.0000   164.0000\n",
              "Category   137959.0   2.329409    1.650080  ...   3.0000    4.0000     5.0000\n",
              "Commodity  137959.0  12.352822    6.325432  ...  13.0000   17.0000    22.0000\n",
              "Unit       137959.0   0.122551    0.462225  ...   0.0000    0.0000     2.0000\n",
              "PriceType  137959.0   0.016432    0.127132  ...   0.0000    0.0000     1.0000\n",
              "Price      137959.0  94.647023  261.972666  ...  46.0000   95.0000  4910.0000\n",
              "USD_Price  137959.0   1.505967    4.496516  ...   0.7047    1.4069    88.7788\n",
              "\n",
              "[7 rows x 8 columns]"
            ]
          },
          "metadata": {},
          "execution_count": 54
        }
      ]
    },
    {
      "cell_type": "markdown",
      "source": [
        "# **Data visualization**\n",
        "\n",
        "---\n",
        "\n"
      ],
      "metadata": {
        "id": "UtZNkVlHlrjf"
      }
    },
    {
      "cell_type": "code",
      "source": [
        "import pandas as pd"
      ],
      "metadata": {
        "id": "OL-k3YWLVr56"
      },
      "execution_count": null,
      "outputs": []
    },
    {
      "cell_type": "code",
      "source": [
        "analyzed_df = pd.read_csv('drive/MyDrive/Colab Notebooks/indianComm_n.csv', parse_dates=[\"Date\"], index_col='Date')"
      ],
      "metadata": {
        "id": "1tIKXx6zVzUx"
      },
      "execution_count": null,
      "outputs": []
    },
    {
      "cell_type": "code",
      "source": [
        "analyzed_df.head()"
      ],
      "metadata": {
        "colab": {
          "base_uri": "https://localhost:8080/",
          "height": 238
        },
        "id": "JhdOVI7TXJiP",
        "outputId": "f51249c3-c0b7-4db2-f7f0-419f1dbf3a1b"
      },
      "execution_count": null,
      "outputs": [
        {
          "output_type": "execute_result",
          "data": {
            "text/html": [
              "\n",
              "  <div id=\"df-c7d18bd9-62dc-448b-acc6-61f8ad0ad2ba\">\n",
              "    <div class=\"colab-df-container\">\n",
              "      <div>\n",
              "<style scoped>\n",
              "    .dataframe tbody tr th:only-of-type {\n",
              "        vertical-align: middle;\n",
              "    }\n",
              "\n",
              "    .dataframe tbody tr th {\n",
              "        vertical-align: top;\n",
              "    }\n",
              "\n",
              "    .dataframe thead th {\n",
              "        text-align: right;\n",
              "    }\n",
              "</style>\n",
              "<table border=\"1\" class=\"dataframe\">\n",
              "  <thead>\n",
              "    <tr style=\"text-align: right;\">\n",
              "      <th></th>\n",
              "      <th>Market</th>\n",
              "      <th>Category</th>\n",
              "      <th>Commodity</th>\n",
              "      <th>Unit</th>\n",
              "      <th>PriceType</th>\n",
              "      <th>Price</th>\n",
              "      <th>USD_Price</th>\n",
              "    </tr>\n",
              "    <tr>\n",
              "      <th>Date</th>\n",
              "      <th></th>\n",
              "      <th></th>\n",
              "      <th></th>\n",
              "      <th></th>\n",
              "      <th></th>\n",
              "      <th></th>\n",
              "      <th></th>\n",
              "    </tr>\n",
              "  </thead>\n",
              "  <tbody>\n",
              "    <tr>\n",
              "      <th>1994-01-15</th>\n",
              "      <td>42</td>\n",
              "      <td>0</td>\n",
              "      <td>15</td>\n",
              "      <td>0</td>\n",
              "      <td>0</td>\n",
              "      <td>8.0</td>\n",
              "      <td>0.2545</td>\n",
              "    </tr>\n",
              "    <tr>\n",
              "      <th>1994-01-15</th>\n",
              "      <td>42</td>\n",
              "      <td>0</td>\n",
              "      <td>21</td>\n",
              "      <td>0</td>\n",
              "      <td>0</td>\n",
              "      <td>5.0</td>\n",
              "      <td>0.1590</td>\n",
              "    </tr>\n",
              "    <tr>\n",
              "      <th>1994-01-15</th>\n",
              "      <td>42</td>\n",
              "      <td>2</td>\n",
              "      <td>17</td>\n",
              "      <td>0</td>\n",
              "      <td>0</td>\n",
              "      <td>13.5</td>\n",
              "      <td>0.4294</td>\n",
              "    </tr>\n",
              "    <tr>\n",
              "      <th>1994-01-15</th>\n",
              "      <td>42</td>\n",
              "      <td>3</td>\n",
              "      <td>9</td>\n",
              "      <td>0</td>\n",
              "      <td>0</td>\n",
              "      <td>31.0</td>\n",
              "      <td>0.9860</td>\n",
              "    </tr>\n",
              "    <tr>\n",
              "      <th>1994-01-15</th>\n",
              "      <td>3</td>\n",
              "      <td>0</td>\n",
              "      <td>15</td>\n",
              "      <td>0</td>\n",
              "      <td>0</td>\n",
              "      <td>6.8</td>\n",
              "      <td>0.2163</td>\n",
              "    </tr>\n",
              "  </tbody>\n",
              "</table>\n",
              "</div>\n",
              "      <button class=\"colab-df-convert\" onclick=\"convertToInteractive('df-c7d18bd9-62dc-448b-acc6-61f8ad0ad2ba')\"\n",
              "              title=\"Convert this dataframe to an interactive table.\"\n",
              "              style=\"display:none;\">\n",
              "        \n",
              "  <svg xmlns=\"http://www.w3.org/2000/svg\" height=\"24px\"viewBox=\"0 0 24 24\"\n",
              "       width=\"24px\">\n",
              "    <path d=\"M0 0h24v24H0V0z\" fill=\"none\"/>\n",
              "    <path d=\"M18.56 5.44l.94 2.06.94-2.06 2.06-.94-2.06-.94-.94-2.06-.94 2.06-2.06.94zm-11 1L8.5 8.5l.94-2.06 2.06-.94-2.06-.94L8.5 2.5l-.94 2.06-2.06.94zm10 10l.94 2.06.94-2.06 2.06-.94-2.06-.94-.94-2.06-.94 2.06-2.06.94z\"/><path d=\"M17.41 7.96l-1.37-1.37c-.4-.4-.92-.59-1.43-.59-.52 0-1.04.2-1.43.59L10.3 9.45l-7.72 7.72c-.78.78-.78 2.05 0 2.83L4 21.41c.39.39.9.59 1.41.59.51 0 1.02-.2 1.41-.59l7.78-7.78 2.81-2.81c.8-.78.8-2.07 0-2.86zM5.41 20L4 18.59l7.72-7.72 1.47 1.35L5.41 20z\"/>\n",
              "  </svg>\n",
              "      </button>\n",
              "      \n",
              "  <style>\n",
              "    .colab-df-container {\n",
              "      display:flex;\n",
              "      flex-wrap:wrap;\n",
              "      gap: 12px;\n",
              "    }\n",
              "\n",
              "    .colab-df-convert {\n",
              "      background-color: #E8F0FE;\n",
              "      border: none;\n",
              "      border-radius: 50%;\n",
              "      cursor: pointer;\n",
              "      display: none;\n",
              "      fill: #1967D2;\n",
              "      height: 32px;\n",
              "      padding: 0 0 0 0;\n",
              "      width: 32px;\n",
              "    }\n",
              "\n",
              "    .colab-df-convert:hover {\n",
              "      background-color: #E2EBFA;\n",
              "      box-shadow: 0px 1px 2px rgba(60, 64, 67, 0.3), 0px 1px 3px 1px rgba(60, 64, 67, 0.15);\n",
              "      fill: #174EA6;\n",
              "    }\n",
              "\n",
              "    [theme=dark] .colab-df-convert {\n",
              "      background-color: #3B4455;\n",
              "      fill: #D2E3FC;\n",
              "    }\n",
              "\n",
              "    [theme=dark] .colab-df-convert:hover {\n",
              "      background-color: #434B5C;\n",
              "      box-shadow: 0px 1px 3px 1px rgba(0, 0, 0, 0.15);\n",
              "      filter: drop-shadow(0px 1px 2px rgba(0, 0, 0, 0.3));\n",
              "      fill: #FFFFFF;\n",
              "    }\n",
              "  </style>\n",
              "\n",
              "      <script>\n",
              "        const buttonEl =\n",
              "          document.querySelector('#df-c7d18bd9-62dc-448b-acc6-61f8ad0ad2ba button.colab-df-convert');\n",
              "        buttonEl.style.display =\n",
              "          google.colab.kernel.accessAllowed ? 'block' : 'none';\n",
              "\n",
              "        async function convertToInteractive(key) {\n",
              "          const element = document.querySelector('#df-c7d18bd9-62dc-448b-acc6-61f8ad0ad2ba');\n",
              "          const dataTable =\n",
              "            await google.colab.kernel.invokeFunction('convertToInteractive',\n",
              "                                                     [key], {});\n",
              "          if (!dataTable) return;\n",
              "\n",
              "          const docLinkHtml = 'Like what you see? Visit the ' +\n",
              "            '<a target=\"_blank\" href=https://colab.research.google.com/notebooks/data_table.ipynb>data table notebook</a>'\n",
              "            + ' to learn more about interactive tables.';\n",
              "          element.innerHTML = '';\n",
              "          dataTable['output_type'] = 'display_data';\n",
              "          await google.colab.output.renderOutput(dataTable, element);\n",
              "          const docLink = document.createElement('div');\n",
              "          docLink.innerHTML = docLinkHtml;\n",
              "          element.appendChild(docLink);\n",
              "        }\n",
              "      </script>\n",
              "    </div>\n",
              "  </div>\n",
              "  "
            ],
            "text/plain": [
              "            Market  Category  Commodity  Unit  PriceType  Price  USD_Price\n",
              "Date                                                                      \n",
              "1994-01-15      42         0         15     0          0    8.0     0.2545\n",
              "1994-01-15      42         0         21     0          0    5.0     0.1590\n",
              "1994-01-15      42         2         17     0          0   13.5     0.4294\n",
              "1994-01-15      42         3          9     0          0   31.0     0.9860\n",
              "1994-01-15       3         0         15     0          0    6.8     0.2163"
            ]
          },
          "metadata": {},
          "execution_count": 39
        }
      ]
    },
    {
      "cell_type": "code",
      "source": [
        "analyzed_df.plot(figsize=(15, 10))"
      ],
      "metadata": {
        "colab": {
          "base_uri": "https://localhost:8080/",
          "height": 580
        },
        "id": "TmJCyB1BX5Zv",
        "outputId": "3c16f5df-b472-4bda-e496-a688f72692e5"
      },
      "execution_count": null,
      "outputs": [
        {
          "output_type": "execute_result",
          "data": {
            "text/plain": [
              "<matplotlib.axes._subplots.AxesSubplot at 0x7ff83f6e7a10>"
            ]
          },
          "metadata": {},
          "execution_count": 40
        },
        {
          "output_type": "display_data",
          "data": {
            "image/png": "[encoded data removed]",
            "text/plain": [
              "<Figure size 1080x720 with 1 Axes>"
            ]
          },
          "metadata": {
            "needs_background": "light"
          }
        }
      ]
    },
    {
      "cell_type": "code",
      "source": [
        "analyzed_df.dtypes"
      ],
      "metadata": {
        "colab": {
          "base_uri": "https://localhost:8080/"
        },
        "id": "zrFBn-OKYHS9",
        "outputId": "07478a37-e662-4d8a-bcbd-d7eb299042ab"
      },
      "execution_count": null,
      "outputs": [
        {
          "output_type": "execute_result",
          "data": {
            "text/plain": [
              "Market         int64\n",
              "Category       int64\n",
              "Commodity      int64\n",
              "Unit           int64\n",
              "PriceType      int64\n",
              "Price        float64\n",
              "USD_Price    float64\n",
              "dtype: object"
            ]
          },
          "metadata": {},
          "execution_count": 41
        }
      ]
    },
    {
      "cell_type": "code",
      "source": [
        "import seaborn as sns\n",
        "import matplotlib.pyplot as plt"
      ],
      "metadata": {
        "id": "Znmgtr95R1vI"
      },
      "execution_count": null,
      "outputs": []
    },
    {
      "cell_type": "code",
      "source": [
        "fig , ax = plt.subplots(figsize=(10,10))\n",
        "sns.heatmap(analyzed_df.corr(), annot=True, cmap='viridis', cbar=True)"
      ],
      "metadata": {
        "colab": {
          "base_uri": "https://localhost:8080/",
          "height": 613
        },
        "id": "4ZMVxF5_SbkX",
        "outputId": "2c9513e5-1adf-4690-9345-d6fb4b4c7962"
      },
      "execution_count": null,
      "outputs": [
        {
          "output_type": "execute_result",
          "data": {
            "text/plain": [
              "<matplotlib.axes._subplots.AxesSubplot at 0x7ff83f702410>"
            ]
          },
          "metadata": {},
          "execution_count": 43
        },
        {
          "output_type": "display_data",
          "data": {
            "image/png": "[encoded data removed]",
            "text/plain": [
              "<Figure size 720x720 with 2 Axes>"
            ]
          },
          "metadata": {
            "needs_background": "light"
          }
        }
      ]
    },
    {
      "cell_type": "code",
      "source": [
        "analyzed_df['Category'].plot(kind='box')"
      ],
      "metadata": {
        "colab": {
          "base_uri": "https://localhost:8080/",
          "height": 282
        },
        "id": "uQnx1_ldcO2q",
        "outputId": "1aca59c6-db6c-464f-bad4-97d2ecbb292d"
      },
      "execution_count": null,
      "outputs": [
        {
          "output_type": "execute_result",
          "data": {
            "text/plain": [
              "<matplotlib.axes._subplots.AxesSubplot at 0x7ff83dda4810>"
            ]
          },
          "metadata": {},
          "execution_count": 44
        },
        {
          "output_type": "display_data",
          "data": {
            "image/png": "[encoded data removed]",
            "text/plain": [
              "<Figure size 432x288 with 1 Axes>"
            ]
          },
          "metadata": {
            "needs_background": "light"
          }
        }
      ]
    },
    {
      "cell_type": "code",
      "source": [
        "analyzed_df['Price'].plot(kind='box', figsize=(10,10))"
      ],
      "metadata": {
        "colab": {
          "base_uri": "https://localhost:8080/",
          "height": 609
        },
        "id": "qfqWrqLudAnw",
        "outputId": "4469d86a-916d-42b2-f06f-47ec2c3d6925"
      },
      "execution_count": null,
      "outputs": [
        {
          "output_type": "execute_result",
          "data": {
            "text/plain": [
              "<matplotlib.axes._subplots.AxesSubplot at 0x7ff83dde77d0>"
            ]
          },
          "metadata": {},
          "execution_count": 45
        },
        {
          "output_type": "display_data",
          "data": {
            "image/png": "[encoded data removed]",
            "text/plain": [
              "<Figure size 720x720 with 1 Axes>"
            ]
          },
          "metadata": {
            "needs_background": "light"
          }
        }
      ]
    },
    {
      "cell_type": "code",
      "source": [
        "analyzed_df.plot(kind='hist', figsize=(10,10))"
      ],
      "metadata": {
        "colab": {
          "base_uri": "https://localhost:8080/",
          "height": 609
        },
        "id": "yRXlehVTdQ8g",
        "outputId": "5b6f508a-e3d6-4902-e6e2-72e5b362a5ad"
      },
      "execution_count": null,
      "outputs": [
        {
          "output_type": "execute_result",
          "data": {
            "text/plain": [
              "<matplotlib.axes._subplots.AxesSubplot at 0x7ff83d56d590>"
            ]
          },
          "metadata": {},
          "execution_count": 49
        },
        {
          "output_type": "display_data",
          "data": {
            "image/png": "[encoded data removed]",
            "text/plain": [
              "<Figure size 720x720 with 1 Axes>"
            ]
          },
          "metadata": {
            "needs_background": "light"
          }
        }
      ]
    },
    {
      "cell_type": "code",
      "source": [
        "analyzed_df.hist(color='green', alpha=0.5, figsize=(8, 8))"
      ],
      "metadata": {
        "colab": {
          "base_uri": "https://localhost:8080/",
          "height": 673
        },
        "id": "r9AtmCzRtaPx",
        "outputId": "b0ce99af-e7e3-4702-d4e8-5a8a598398f0"
      },
      "execution_count": null,
      "outputs": [
        {
          "output_type": "execute_result",
          "data": {
            "text/plain": [
              "array([[<matplotlib.axes._subplots.AxesSubplot object at 0x7ff83dcc6290>,\n",
              "        <matplotlib.axes._subplots.AxesSubplot object at 0x7ff83dc61fd0>,\n",
              "        <matplotlib.axes._subplots.AxesSubplot object at 0x7ff83dc9b650>],\n",
              "       [<matplotlib.axes._subplots.AxesSubplot object at 0x7ff83dc52c50>,\n",
              "        <matplotlib.axes._subplots.AxesSubplot object at 0x7ff83dc14290>,\n",
              "        <matplotlib.axes._subplots.AxesSubplot object at 0x7ff83dbc7ad0>],\n",
              "       [<matplotlib.axes._subplots.AxesSubplot object at 0x7ff83db73b10>,\n",
              "        <matplotlib.axes._subplots.AxesSubplot object at 0x7ff83db424d0>,\n",
              "        <matplotlib.axes._subplots.AxesSubplot object at 0x7ff83db42510>]],\n",
              "      dtype=object)"
            ]
          },
          "metadata": {},
          "execution_count": 47
        },
        {
          "output_type": "display_data",
          "data": {
            "image/png": "[encoded data removed]",
            "text/plain": [
              "<Figure size 576x576 with 9 Axes>"
            ]
          },
          "metadata": {
            "needs_background": "light"
          }
        }
      ]
    },
    {
      "cell_type": "code",
      "source": [
        "analyzed_df.plot(kind='box', figsize=(10, 10))"
      ],
      "metadata": {
        "colab": {
          "base_uri": "https://localhost:8080/",
          "height": 609
        },
        "id": "PhwBnDQAQj_R",
        "outputId": "ea316b09-21e9-4235-e99c-5174129dd3af"
      },
      "execution_count": null,
      "outputs": [
        {
          "output_type": "execute_result",
          "data": {
            "text/plain": [
              "<matplotlib.axes._subplots.AxesSubplot at 0x7ff84cdb1a90>"
            ]
          },
          "metadata": {},
          "execution_count": 12
        },
        {
          "output_type": "display_data",
          "data": {
            "image/png": "[encoded data removed]",
            "text/plain": [
              "<Figure size 720x720 with 1 Axes>"
            ]
          },
          "metadata": {
            "needs_background": "light"
          }
        }
      ]
    },
    {
      "cell_type": "code",
      "source": [
        "from sklearn.model_selection import train_test_split\n",
        "from sklearn.linear_model import LinearRegression"
      ],
      "metadata": {
        "id": "oDJrbEOPRSZJ"
      },
      "execution_count": null,
      "outputs": []
    },
    {
      "cell_type": "code",
      "source": [
        "x = analyzed_df.drop('Price', axis=1)\n",
        "y = analyzed_df['Price']"
      ],
      "metadata": {
        "id": "N_FdvpMDSGTy"
      },
      "execution_count": null,
      "outputs": []
    },
    {
      "cell_type": "code",
      "source": [
        "x.head()"
      ],
      "metadata": {
        "colab": {
          "base_uri": "https://localhost:8080/",
          "height": 238
        },
        "id": "rb8BpTbwSooB",
        "outputId": "9f272a11-44f9-4161-c487-0ba5f96d9b7d"
      },
      "execution_count": null,
      "outputs": [
        {
          "output_type": "execute_result",
          "data": {
            "text/html": [
              "\n",
              "  <div id=\"df-0cce18c1-3ca7-4495-bd93-f4221c9b17f5\">\n",
              "    <div class=\"colab-df-container\">\n",
              "      <div>\n",
              "<style scoped>\n",
              "    .dataframe tbody tr th:only-of-type {\n",
              "        vertical-align: middle;\n",
              "    }\n",
              "\n",
              "    .dataframe tbody tr th {\n",
              "        vertical-align: top;\n",
              "    }\n",
              "\n",
              "    .dataframe thead th {\n",
              "        text-align: right;\n",
              "    }\n",
              "</style>\n",
              "<table border=\"1\" class=\"dataframe\">\n",
              "  <thead>\n",
              "    <tr style=\"text-align: right;\">\n",
              "      <th></th>\n",
              "      <th>Market</th>\n",
              "      <th>Category</th>\n",
              "      <th>Commodity</th>\n",
              "      <th>Unit</th>\n",
              "      <th>PriceType</th>\n",
              "      <th>USD_Price</th>\n",
              "    </tr>\n",
              "    <tr>\n",
              "      <th>Date</th>\n",
              "      <th></th>\n",
              "      <th></th>\n",
              "      <th></th>\n",
              "      <th></th>\n",
              "      <th></th>\n",
              "      <th></th>\n",
              "    </tr>\n",
              "  </thead>\n",
              "  <tbody>\n",
              "    <tr>\n",
              "      <th>1994-01-15</th>\n",
              "      <td>42</td>\n",
              "      <td>0</td>\n",
              "      <td>15</td>\n",
              "      <td>0</td>\n",
              "      <td>0</td>\n",
              "      <td>0.2545</td>\n",
              "    </tr>\n",
              "    <tr>\n",
              "      <th>1994-01-15</th>\n",
              "      <td>42</td>\n",
              "      <td>0</td>\n",
              "      <td>21</td>\n",
              "      <td>0</td>\n",
              "      <td>0</td>\n",
              "      <td>0.1590</td>\n",
              "    </tr>\n",
              "    <tr>\n",
              "      <th>1994-01-15</th>\n",
              "      <td>42</td>\n",
              "      <td>2</td>\n",
              "      <td>17</td>\n",
              "      <td>0</td>\n",
              "      <td>0</td>\n",
              "      <td>0.4294</td>\n",
              "    </tr>\n",
              "    <tr>\n",
              "      <th>1994-01-15</th>\n",
              "      <td>42</td>\n",
              "      <td>3</td>\n",
              "      <td>9</td>\n",
              "      <td>0</td>\n",
              "      <td>0</td>\n",
              "      <td>0.9860</td>\n",
              "    </tr>\n",
              "    <tr>\n",
              "      <th>1994-01-15</th>\n",
              "      <td>3</td>\n",
              "      <td>0</td>\n",
              "      <td>15</td>\n",
              "      <td>0</td>\n",
              "      <td>0</td>\n",
              "      <td>0.2163</td>\n",
              "    </tr>\n",
              "  </tbody>\n",
              "</table>\n",
              "</div>\n",
              "      <button class=\"colab-df-convert\" onclick=\"convertToInteractive('df-0cce18c1-3ca7-4495-bd93-f4221c9b17f5')\"\n",
              "              title=\"Convert this dataframe to an interactive table.\"\n",
              "              style=\"display:none;\">\n",
              "        \n",
              "  <svg xmlns=\"http://www.w3.org/2000/svg\" height=\"24px\"viewBox=\"0 0 24 24\"\n",
              "       width=\"24px\">\n",
              "    <path d=\"M0 0h24v24H0V0z\" fill=\"none\"/>\n",
              "    <path d=\"M18.56 5.44l.94 2.06.94-2.06 2.06-.94-2.06-.94-.94-2.06-.94 2.06-2.06.94zm-11 1L8.5 8.5l.94-2.06 2.06-.94-2.06-.94L8.5 2.5l-.94 2.06-2.06.94zm10 10l.94 2.06.94-2.06 2.06-.94-2.06-.94-.94-2.06-.94 2.06-2.06.94z\"/><path d=\"M17.41 7.96l-1.37-1.37c-.4-.4-.92-.59-1.43-.59-.52 0-1.04.2-1.43.59L10.3 9.45l-7.72 7.72c-.78.78-.78 2.05 0 2.83L4 21.41c.39.39.9.59 1.41.59.51 0 1.02-.2 1.41-.59l7.78-7.78 2.81-2.81c.8-.78.8-2.07 0-2.86zM5.41 20L4 18.59l7.72-7.72 1.47 1.35L5.41 20z\"/>\n",
              "  </svg>\n",
              "      </button>\n",
              "      \n",
              "  <style>\n",
              "    .colab-df-container {\n",
              "      display:flex;\n",
              "      flex-wrap:wrap;\n",
              "      gap: 12px;\n",
              "    }\n",
              "\n",
              "    .colab-df-convert {\n",
              "      background-color: #E8F0FE;\n",
              "      border: none;\n",
              "      border-radius: 50%;\n",
              "      cursor: pointer;\n",
              "      display: none;\n",
              "      fill: #1967D2;\n",
              "      height: 32px;\n",
              "      padding: 0 0 0 0;\n",
              "      width: 32px;\n",
              "    }\n",
              "\n",
              "    .colab-df-convert:hover {\n",
              "      background-color: #E2EBFA;\n",
              "      box-shadow: 0px 1px 2px rgba(60, 64, 67, 0.3), 0px 1px 3px 1px rgba(60, 64, 67, 0.15);\n",
              "      fill: #174EA6;\n",
              "    }\n",
              "\n",
              "    [theme=dark] .colab-df-convert {\n",
              "      background-color: #3B4455;\n",
              "      fill: #D2E3FC;\n",
              "    }\n",
              "\n",
              "    [theme=dark] .colab-df-convert:hover {\n",
              "      background-color: #434B5C;\n",
              "      box-shadow: 0px 1px 3px 1px rgba(0, 0, 0, 0.15);\n",
              "      filter: drop-shadow(0px 1px 2px rgba(0, 0, 0, 0.3));\n",
              "      fill: #FFFFFF;\n",
              "    }\n",
              "  </style>\n",
              "\n",
              "      <script>\n",
              "        const buttonEl =\n",
              "          document.querySelector('#df-0cce18c1-3ca7-4495-bd93-f4221c9b17f5 button.colab-df-convert');\n",
              "        buttonEl.style.display =\n",
              "          google.colab.kernel.accessAllowed ? 'block' : 'none';\n",
              "\n",
              "        async function convertToInteractive(key) {\n",
              "          const element = document.querySelector('#df-0cce18c1-3ca7-4495-bd93-f4221c9b17f5');\n",
              "          const dataTable =\n",
              "            await google.colab.kernel.invokeFunction('convertToInteractive',\n",
              "                                                     [key], {});\n",
              "          if (!dataTable) return;\n",
              "\n",
              "          const docLinkHtml = 'Like what you see? Visit the ' +\n",
              "            '<a target=\"_blank\" href=https://colab.research.google.com/notebooks/data_table.ipynb>data table notebook</a>'\n",
              "            + ' to learn more about interactive tables.';\n",
              "          element.innerHTML = '';\n",
              "          dataTable['output_type'] = 'display_data';\n",
              "          await google.colab.output.renderOutput(dataTable, element);\n",
              "          const docLink = document.createElement('div');\n",
              "          docLink.innerHTML = docLinkHtml;\n",
              "          element.appendChild(docLink);\n",
              "        }\n",
              "      </script>\n",
              "    </div>\n",
              "  </div>\n",
              "  "
            ],
            "text/plain": [
              "            Market  Category  Commodity  Unit  PriceType  USD_Price\n",
              "Date                                                               \n",
              "1994-01-15      42         0         15     0          0     0.2545\n",
              "1994-01-15      42         0         21     0          0     0.1590\n",
              "1994-01-15      42         2         17     0          0     0.4294\n",
              "1994-01-15      42         3          9     0          0     0.9860\n",
              "1994-01-15       3         0         15     0          0     0.2163"
            ]
          },
          "metadata": {},
          "execution_count": 8
        }
      ]
    },
    {
      "cell_type": "code",
      "source": [],
      "metadata": {
        "id": "MAo_JtE8vNMz"
      },
      "execution_count": null,
      "outputs": []
    },
    {
      "cell_type": "code",
      "source": [
        "x_train, x_test, y_train, y_test = train_test_split(x, y, test_size=0.3, random_state=322)"
      ],
      "metadata": {
        "id": "N_mCemPBS0NY"
      },
      "execution_count": null,
      "outputs": []
    },
    {
      "cell_type": "code",
      "source": [
        "x_train.head()"
      ],
      "metadata": {
        "colab": {
          "base_uri": "https://localhost:8080/",
          "height": 238
        },
        "id": "bxv3mATvS0U4",
        "outputId": "a32a7870-75b7-4d12-c034-249db4028f60"
      },
      "execution_count": null,
      "outputs": [
        {
          "output_type": "execute_result",
          "data": {
            "text/html": [
              "\n",
              "  <div id=\"df-c5ef206c-726c-49bd-b308-0e5e63da164f\">\n",
              "    <div class=\"colab-df-container\">\n",
              "      <div>\n",
              "<style scoped>\n",
              "    .dataframe tbody tr th:only-of-type {\n",
              "        vertical-align: middle;\n",
              "    }\n",
              "\n",
              "    .dataframe tbody tr th {\n",
              "        vertical-align: top;\n",
              "    }\n",
              "\n",
              "    .dataframe thead th {\n",
              "        text-align: right;\n",
              "    }\n",
              "</style>\n",
              "<table border=\"1\" class=\"dataframe\">\n",
              "  <thead>\n",
              "    <tr style=\"text-align: right;\">\n",
              "      <th></th>\n",
              "      <th>Market</th>\n",
              "      <th>Category</th>\n",
              "      <th>Commodity</th>\n",
              "      <th>Unit</th>\n",
              "      <th>PriceType</th>\n",
              "      <th>USD_Price</th>\n",
              "    </tr>\n",
              "    <tr>\n",
              "      <th>Date</th>\n",
              "      <th></th>\n",
              "      <th></th>\n",
              "      <th></th>\n",
              "      <th></th>\n",
              "      <th></th>\n",
              "      <th></th>\n",
              "    </tr>\n",
              "  </thead>\n",
              "  <tbody>\n",
              "    <tr>\n",
              "      <th>2016-01-15</th>\n",
              "      <td>113</td>\n",
              "      <td>4</td>\n",
              "      <td>3</td>\n",
              "      <td>0</td>\n",
              "      <td>0</td>\n",
              "      <td>1.0012</td>\n",
              "    </tr>\n",
              "    <tr>\n",
              "      <th>2021-09-15</th>\n",
              "      <td>96</td>\n",
              "      <td>0</td>\n",
              "      <td>22</td>\n",
              "      <td>0</td>\n",
              "      <td>0</td>\n",
              "      <td>0.7350</td>\n",
              "    </tr>\n",
              "    <tr>\n",
              "      <th>2021-07-15</th>\n",
              "      <td>19</td>\n",
              "      <td>3</td>\n",
              "      <td>12</td>\n",
              "      <td>0</td>\n",
              "      <td>0</td>\n",
              "      <td>2.3608</td>\n",
              "    </tr>\n",
              "    <tr>\n",
              "      <th>2016-11-15</th>\n",
              "      <td>88</td>\n",
              "      <td>4</td>\n",
              "      <td>4</td>\n",
              "      <td>0</td>\n",
              "      <td>0</td>\n",
              "      <td>1.2537</td>\n",
              "    </tr>\n",
              "    <tr>\n",
              "      <th>2021-07-15</th>\n",
              "      <td>26</td>\n",
              "      <td>3</td>\n",
              "      <td>9</td>\n",
              "      <td>0</td>\n",
              "      <td>0</td>\n",
              "      <td>2.0791</td>\n",
              "    </tr>\n",
              "  </tbody>\n",
              "</table>\n",
              "</div>\n",
              "      <button class=\"colab-df-convert\" onclick=\"convertToInteractive('df-c5ef206c-726c-49bd-b308-0e5e63da164f')\"\n",
              "              title=\"Convert this dataframe to an interactive table.\"\n",
              "              style=\"display:none;\">\n",
              "        \n",
              "  <svg xmlns=\"http://www.w3.org/2000/svg\" height=\"24px\"viewBox=\"0 0 24 24\"\n",
              "       width=\"24px\">\n",
              "    <path d=\"M0 0h24v24H0V0z\" fill=\"none\"/>\n",
              "    <path d=\"M18.56 5.44l.94 2.06.94-2.06 2.06-.94-2.06-.94-.94-2.06-.94 2.06-2.06.94zm-11 1L8.5 8.5l.94-2.06 2.06-.94-2.06-.94L8.5 2.5l-.94 2.06-2.06.94zm10 10l.94 2.06.94-2.06 2.06-.94-2.06-.94-.94-2.06-.94 2.06-2.06.94z\"/><path d=\"M17.41 7.96l-1.37-1.37c-.4-.4-.92-.59-1.43-.59-.52 0-1.04.2-1.43.59L10.3 9.45l-7.72 7.72c-.78.78-.78 2.05 0 2.83L4 21.41c.39.39.9.59 1.41.59.51 0 1.02-.2 1.41-.59l7.78-7.78 2.81-2.81c.8-.78.8-2.07 0-2.86zM5.41 20L4 18.59l7.72-7.72 1.47 1.35L5.41 20z\"/>\n",
              "  </svg>\n",
              "      </button>\n",
              "      \n",
              "  <style>\n",
              "    .colab-df-container {\n",
              "      display:flex;\n",
              "      flex-wrap:wrap;\n",
              "      gap: 12px;\n",
              "    }\n",
              "\n",
              "    .colab-df-convert {\n",
              "      background-color: #E8F0FE;\n",
              "      border: none;\n",
              "      border-radius: 50%;\n",
              "      cursor: pointer;\n",
              "      display: none;\n",
              "      fill: #1967D2;\n",
              "      height: 32px;\n",
              "      padding: 0 0 0 0;\n",
              "      width: 32px;\n",
              "    }\n",
              "\n",
              "    .colab-df-convert:hover {\n",
              "      background-color: #E2EBFA;\n",
              "      box-shadow: 0px 1px 2px rgba(60, 64, 67, 0.3), 0px 1px 3px 1px rgba(60, 64, 67, 0.15);\n",
              "      fill: #174EA6;\n",
              "    }\n",
              "\n",
              "    [theme=dark] .colab-df-convert {\n",
              "      background-color: #3B4455;\n",
              "      fill: #D2E3FC;\n",
              "    }\n",
              "\n",
              "    [theme=dark] .colab-df-convert:hover {\n",
              "      background-color: #434B5C;\n",
              "      box-shadow: 0px 1px 3px 1px rgba(0, 0, 0, 0.15);\n",
              "      filter: drop-shadow(0px 1px 2px rgba(0, 0, 0, 0.3));\n",
              "      fill: #FFFFFF;\n",
              "    }\n",
              "  </style>\n",
              "\n",
              "      <script>\n",
              "        const buttonEl =\n",
              "          document.querySelector('#df-c5ef206c-726c-49bd-b308-0e5e63da164f button.colab-df-convert');\n",
              "        buttonEl.style.display =\n",
              "          google.colab.kernel.accessAllowed ? 'block' : 'none';\n",
              "\n",
              "        async function convertToInteractive(key) {\n",
              "          const element = document.querySelector('#df-c5ef206c-726c-49bd-b308-0e5e63da164f');\n",
              "          const dataTable =\n",
              "            await google.colab.kernel.invokeFunction('convertToInteractive',\n",
              "                                                     [key], {});\n",
              "          if (!dataTable) return;\n",
              "\n",
              "          const docLinkHtml = 'Like what you see? Visit the ' +\n",
              "            '<a target=\"_blank\" href=https://colab.research.google.com/notebooks/data_table.ipynb>data table notebook</a>'\n",
              "            + ' to learn more about interactive tables.';\n",
              "          element.innerHTML = '';\n",
              "          dataTable['output_type'] = 'display_data';\n",
              "          await google.colab.output.renderOutput(dataTable, element);\n",
              "          const docLink = document.createElement('div');\n",
              "          docLink.innerHTML = docLinkHtml;\n",
              "          element.appendChild(docLink);\n",
              "        }\n",
              "      </script>\n",
              "    </div>\n",
              "  </div>\n",
              "  "
            ],
            "text/plain": [
              "            Market  Category  Commodity  Unit  PriceType  USD_Price\n",
              "Date                                                               \n",
              "2016-01-15     113         4          3     0          0     1.0012\n",
              "2021-09-15      96         0         22     0          0     0.7350\n",
              "2021-07-15      19         3         12     0          0     2.3608\n",
              "2016-11-15      88         4          4     0          0     1.2537\n",
              "2021-07-15      26         3          9     0          0     2.0791"
            ]
          },
          "metadata": {},
          "execution_count": 10
        }
      ]
    },
    {
      "cell_type": "code",
      "source": [
        "y_train.head()"
      ],
      "metadata": {
        "colab": {
          "base_uri": "https://localhost:8080/"
        },
        "id": "4Ekb-q-TUK6i",
        "outputId": "57039a80-df2d-4e3b-bd8b-5c46b6c4b6f8"
      },
      "execution_count": null,
      "outputs": [
        {
          "output_type": "execute_result",
          "data": {
            "text/plain": [
              "Date\n",
              "2016-01-15     67.82\n",
              "2021-09-15     54.00\n",
              "2021-07-15    176.00\n",
              "2016-11-15     85.00\n",
              "2021-07-15    155.00\n",
              "Name: Price, dtype: float64"
            ]
          },
          "metadata": {},
          "execution_count": 11
        }
      ]
    },
    {
      "cell_type": "code",
      "source": [
        "L_model = LinearRegression()"
      ],
      "metadata": {
        "id": "HAvitippUt5K"
      },
      "execution_count": null,
      "outputs": []
    },
    {
      "cell_type": "code",
      "source": [
        "L_model.fit(x_train, y_train)"
      ],
      "metadata": {
        "colab": {
          "base_uri": "https://localhost:8080/"
        },
        "id": "LC-8dCZ6U-uI",
        "outputId": "91354bc9-ddac-4821-f0f1-39148d6b452c"
      },
      "execution_count": null,
      "outputs": [
        {
          "output_type": "execute_result",
          "data": {
            "text/plain": [
              "LinearRegression()"
            ]
          },
          "metadata": {},
          "execution_count": 13
        }
      ]
    },
    {
      "cell_type": "code",
      "source": [
        "L_model.score(x_test, y_test)"
      ],
      "metadata": {
        "colab": {
          "base_uri": "https://localhost:8080/"
        },
        "id": "UPAG-yHEXw7h",
        "outputId": "6b9a3ecd-c66e-468a-d918-928f2f9d85f9"
      },
      "execution_count": null,
      "outputs": [
        {
          "output_type": "execute_result",
          "data": {
            "text/plain": [
              "0.9641077571080806"
            ]
          },
          "metadata": {},
          "execution_count": 14
        }
      ]
    },
    {
      "cell_type": "code",
      "source": [
        "prediction = L_model.predict(x_test)"
      ],
      "metadata": {
        "id": "_sjm9zBbYiL8"
      },
      "execution_count": null,
      "outputs": []
    },
    {
      "cell_type": "code",
      "source": [
        "sns.displot(y_test-prediction)"
      ],
      "metadata": {
        "colab": {
          "base_uri": "https://localhost:8080/",
          "height": 386
        },
        "id": "R4YperSKYuyx",
        "outputId": "9f01e029-592e-4490-91c6-25d69b377d18"
      },
      "execution_count": null,
      "outputs": [
        {
          "output_type": "execute_result",
          "data": {
            "text/plain": [
              "<seaborn.axisgrid.FacetGrid at 0x7fea7057bd50>"
            ]
          },
          "metadata": {},
          "execution_count": 16
        },
        {
          "output_type": "display_data",
          "data": {
            "image/png": "[encoded data removed]",
            "text/plain": [
              "<Figure size 360x360 with 1 Axes>"
            ]
          },
          "metadata": {
            "needs_background": "light"
          }
        }
      ]
    },
    {
      "cell_type": "code",
      "source": [
        "plt.scatter(y_test, prediction)"
      ],
      "metadata": {
        "colab": {
          "base_uri": "https://localhost:8080/",
          "height": 282
        },
        "id": "FeawJWhTZSdh",
        "outputId": "3b7f1f79-ef6f-4b8b-ae06-b1ac25bc043b"
      },
      "execution_count": null,
      "outputs": [
        {
          "output_type": "execute_result",
          "data": {
            "text/plain": [
              "<matplotlib.collections.PathCollection at 0x7fea697616d0>"
            ]
          },
          "metadata": {},
          "execution_count": 17
        },
        {
          "output_type": "display_data",
          "data": {
            "image/png": "[encoded data removed]",
            "text/plain": [
              "<Figure size 432x288 with 1 Axes>"
            ]
          },
          "metadata": {
            "needs_background": "light"
          }
        }
      ]
    },
    {
      "cell_type": "code",
      "source": [
        "import pickle"
      ],
      "metadata": {
        "id": "Eeby3ibrnR90"
      },
      "execution_count": null,
      "outputs": []
    },
    {
      "cell_type": "code",
      "source": [
        "pFile = open('drive/MyDrive/Colab Notebooks/model.pickle', 'wb')\n",
        "pickle.dump(L_model, pFile)"
      ],
      "metadata": {
        "id": "6RD3yZZLnXAC"
      },
      "execution_count": null,
      "outputs": []
    },
    {
      "cell_type": "code",
      "source": [
        "rFile=open('drive/MyDrive/Colab Notebooks/model.pkl', 'rb')\n",
        "pModel=pickle.load(rFile)"
      ],
      "metadata": {
        "id": "RfOQo2dipxo7"
      },
      "execution_count": null,
      "outputs": []
    },
    {
      "cell_type": "code",
      "source": [
        "pModel.score(x_test, y_test)"
      ],
      "metadata": {
        "colab": {
          "base_uri": "https://localhost:8080/"
        },
        "id": "VGbc9s4hrBoG",
        "outputId": "c0e26b92-bc6b-4899-bfc2-ead9cffb278d"
      },
      "execution_count": null,
      "outputs": [
        {
          "output_type": "execute_result",
          "data": {
            "text/plain": [
              "0.9641077571080806"
            ]
          },
          "metadata": {},
          "execution_count": 21
        }
      ]
    },
    {
      "cell_type": "code",
      "source": [
        "pModel.predict([[113,\t4,\t3,\t0,\t0,\t1.0012]])"
      ],
      "metadata": {
        "colab": {
          "base_uri": "https://localhost:8080/"
        },
        "id": "U2z430zRrNey",
        "outputId": "89eae7b8-3321-4319-fb71-f2ac6280152a"
      },
      "execution_count": null,
      "outputs": [
        {
          "output_type": "stream",
          "name": "stderr",
          "text": [
            "/usr/local/lib/python3.7/dist-packages/sklearn/base.py:451: UserWarning: X does not have valid feature names, but LinearRegression was fitted with feature names\n",
            "  \"X does not have valid feature names, but\"\n"
          ]
        },
        {
          "output_type": "execute_result",
          "data": {
            "text/plain": [
              "array([68.69178002])"
            ]
          },
          "metadata": {},
          "execution_count": 37
        }
      ]
    },
    {
      "cell_type": "code",
      "source": [
        "y_train.head()"
      ],
      "metadata": {
        "colab": {
          "base_uri": "https://localhost:8080/"
        },
        "id": "PnCg9dE-vRG6",
        "outputId": "741a8baa-6827-4079-afd7-53c688a255d0"
      },
      "execution_count": null,
      "outputs": [
        {
          "output_type": "execute_result",
          "data": {
            "text/plain": [
              "Date\n",
              "2016-01-15     67.82\n",
              "2021-09-15     54.00\n",
              "2021-07-15    176.00\n",
              "2016-11-15     85.00\n",
              "2021-07-15    155.00\n",
              "Name: Price, dtype: float64"
            ]
          },
          "metadata": {},
          "execution_count": 36
        }
      ]
    }
  ]
}