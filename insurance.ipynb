{
  "nbformat": 4,
  "nbformat_minor": 0,
  "metadata": {
    "colab": {
      "provenance": [],
      "mount_file_id": "1InsdQl6lIs2o1cMRV9Xzky3UdeOpy8EZ",
      "authorship_tag": "ABX9TyPVZ/NiTfweGcce3cxshUen",
      "include_colab_link": true
    },
    "kernelspec": {
      "name": "python3",
      "display_name": "Python 3"
    },
    "language_info": {
      "name": "python"
    }
  },
  "cells": [
    {
      "cell_type": "markdown",
      "metadata": {
        "id": "view-in-github",
        "colab_type": "text"
      },
      "source": [
        "<a href=\"https://colab.research.google.com/github/kamrulhasan04947/mlprac/blob/main/insurance.ipynb\" target=\"_parent\"><img src=\"https://colab.research.google.com/assets/colab-badge.svg\" alt=\"Open In Colab\"/></a>"
      ]
    },
    {
      "cell_type": "code",
      "source": [
        "from google.colab import drive\n",
        "drive.mount('/content/drive')"
      ],
      "metadata": {
        "colab": {
          "base_uri": "https://localhost:8080/"
        },
        "id": "8CIdElIDwpFp",
        "outputId": "38635b00-9102-499f-91d8-8bf58878f522"
      },
      "execution_count": null,
      "outputs": [
        {
          "output_type": "stream",
          "name": "stdout",
          "text": [
            "Mounted at /content/drive\n"
          ]
        }
      ]
    },
    {
      "cell_type": "code",
      "source": [
        "import pandas as pd\n",
        "import numpy as np"
      ],
      "metadata": {
        "id": "oHKVjPIHwzHP"
      },
      "execution_count": null,
      "outputs": []
    },
    {
      "cell_type": "code",
      "source": [
        "df = pd.read_csv('/content/drive/MyDrive/Data sets/insurance.csv')"
      ],
      "metadata": {
        "id": "TH26v5mzxI8_"
      },
      "execution_count": null,
      "outputs": []
    },
    {
      "cell_type": "code",
      "source": [
        "df.info()"
      ],
      "metadata": {
        "colab": {
          "base_uri": "https://localhost:8080/"
        },
        "id": "S6WmT-wxxPo_",
        "outputId": "b6de1953-1d81-4aa5-802d-8161fb5952c1"
      },
      "execution_count": null,
      "outputs": [
        {
          "output_type": "stream",
          "name": "stdout",
          "text": [
            "<class 'pandas.core.frame.DataFrame'>\n",
            "RangeIndex: 1338 entries, 0 to 1337\n",
            "Data columns (total 7 columns):\n",
            " #   Column    Non-Null Count  Dtype  \n",
            "---  ------    --------------  -----  \n",
            " 0   age       1338 non-null   int64  \n",
            " 1   sex       1338 non-null   object \n",
            " 2   bmi       1338 non-null   float64\n",
            " 3   children  1338 non-null   int64  \n",
            " 4   smoker    1338 non-null   object \n",
            " 5   region    1338 non-null   object \n",
            " 6   expenses  1338 non-null   float64\n",
            "dtypes: float64(2), int64(2), object(3)\n",
            "memory usage: 73.3+ KB\n"
          ]
        }
      ]
    },
    {
      "cell_type": "code",
      "source": [
        "df.isna().sum()"
      ],
      "metadata": {
        "colab": {
          "base_uri": "https://localhost:8080/"
        },
        "id": "D7eVCBDuygOv",
        "outputId": "588bbc82-8b62-4d25-b0f5-84cfb3ed4dde"
      },
      "execution_count": null,
      "outputs": [
        {
          "output_type": "execute_result",
          "data": {
            "text/plain": [
              "age         0\n",
              "sex         0\n",
              "bmi         0\n",
              "children    0\n",
              "smoker      0\n",
              "region      0\n",
              "expenses    0\n",
              "dtype: int64"
            ]
          },
          "metadata": {},
          "execution_count": 5
        }
      ]
    },
    {
      "cell_type": "code",
      "source": [
        "df.duplicated().sum()"
      ],
      "metadata": {
        "colab": {
          "base_uri": "https://localhost:8080/"
        },
        "id": "o5Qv-sbqyppY",
        "outputId": "fa949306-9494-4b9f-ac54-ba0e72017ca7"
      },
      "execution_count": null,
      "outputs": [
        {
          "output_type": "execute_result",
          "data": {
            "text/plain": [
              "1"
            ]
          },
          "metadata": {},
          "execution_count": 6
        }
      ]
    },
    {
      "cell_type": "code",
      "source": [
        "df.drop_duplicates()"
      ],
      "metadata": {
        "colab": {
          "base_uri": "https://localhost:8080/",
          "height": 423
        },
        "id": "YGnAw1D1ywRw",
        "outputId": "054b19fa-7b41-4f1e-cd6a-b71faa852694"
      },
      "execution_count": null,
      "outputs": [
        {
          "output_type": "execute_result",
          "data": {
            "text/plain": [
              "      age     sex   bmi  children smoker     region  expenses\n",
              "0      19  female  27.9         0    yes  southwest  16884.92\n",
              "1      18    male  33.8         1     no  southeast   1725.55\n",
              "2      28    male  33.0         3     no  southeast   4449.46\n",
              "3      33    male  22.7         0     no  northwest  21984.47\n",
              "4      32    male  28.9         0     no  northwest   3866.86\n",
              "...   ...     ...   ...       ...    ...        ...       ...\n",
              "1333   50    male  31.0         3     no  northwest  10600.55\n",
              "1334   18  female  31.9         0     no  northeast   2205.98\n",
              "1335   18  female  36.9         0     no  southeast   1629.83\n",
              "1336   21  female  25.8         0     no  southwest   2007.95\n",
              "1337   61  female  29.1         0    yes  northwest  29141.36\n",
              "\n",
              "[1337 rows x 7 columns]"
            ],
            "text/html": [
              "\n",
              "\n",
              "  <div id=\"df-c58dbcfa-003d-431b-aac8-64a7a48ad3f5\">\n",
              "    <div class=\"colab-df-container\">\n",
              "      <div>\n",
              "<style scoped>\n",
              "    .dataframe tbody tr th:only-of-type {\n",
              "        vertical-align: middle;\n",
              "    }\n",
              "\n",
              "    .dataframe tbody tr th {\n",
              "        vertical-align: top;\n",
              "    }\n",
              "\n",
              "    .dataframe thead th {\n",
              "        text-align: right;\n",
              "    }\n",
              "</style>\n",
              "<table border=\"1\" class=\"dataframe\">\n",
              "  <thead>\n",
              "    <tr style=\"text-align: right;\">\n",
              "      <th></th>\n",
              "      <th>age</th>\n",
              "      <th>sex</th>\n",
              "      <th>bmi</th>\n",
              "      <th>children</th>\n",
              "      <th>smoker</th>\n",
              "      <th>region</th>\n",
              "      <th>expenses</th>\n",
              "    </tr>\n",
              "  </thead>\n",
              "  <tbody>\n",
              "    <tr>\n",
              "      <th>0</th>\n",
              "      <td>19</td>\n",
              "      <td>female</td>\n",
              "      <td>27.9</td>\n",
              "      <td>0</td>\n",
              "      <td>yes</td>\n",
              "      <td>southwest</td>\n",
              "      <td>16884.92</td>\n",
              "    </tr>\n",
              "    <tr>\n",
              "      <th>1</th>\n",
              "      <td>18</td>\n",
              "      <td>male</td>\n",
              "      <td>33.8</td>\n",
              "      <td>1</td>\n",
              "      <td>no</td>\n",
              "      <td>southeast</td>\n",
              "      <td>1725.55</td>\n",
              "    </tr>\n",
              "    <tr>\n",
              "      <th>2</th>\n",
              "      <td>28</td>\n",
              "      <td>male</td>\n",
              "      <td>33.0</td>\n",
              "      <td>3</td>\n",
              "      <td>no</td>\n",
              "      <td>southeast</td>\n",
              "      <td>4449.46</td>\n",
              "    </tr>\n",
              "    <tr>\n",
              "      <th>3</th>\n",
              "      <td>33</td>\n",
              "      <td>male</td>\n",
              "      <td>22.7</td>\n",
              "      <td>0</td>\n",
              "      <td>no</td>\n",
              "      <td>northwest</td>\n",
              "      <td>21984.47</td>\n",
              "    </tr>\n",
              "    <tr>\n",
              "      <th>4</th>\n",
              "      <td>32</td>\n",
              "      <td>male</td>\n",
              "      <td>28.9</td>\n",
              "      <td>0</td>\n",
              "      <td>no</td>\n",
              "      <td>northwest</td>\n",
              "      <td>3866.86</td>\n",
              "    </tr>\n",
              "    <tr>\n",
              "      <th>...</th>\n",
              "      <td>...</td>\n",
              "      <td>...</td>\n",
              "      <td>...</td>\n",
              "      <td>...</td>\n",
              "      <td>...</td>\n",
              "      <td>...</td>\n",
              "      <td>...</td>\n",
              "    </tr>\n",
              "    <tr>\n",
              "      <th>1333</th>\n",
              "      <td>50</td>\n",
              "      <td>male</td>\n",
              "      <td>31.0</td>\n",
              "      <td>3</td>\n",
              "      <td>no</td>\n",
              "      <td>northwest</td>\n",
              "      <td>10600.55</td>\n",
              "    </tr>\n",
              "    <tr>\n",
              "      <th>1334</th>\n",
              "      <td>18</td>\n",
              "      <td>female</td>\n",
              "      <td>31.9</td>\n",
              "      <td>0</td>\n",
              "      <td>no</td>\n",
              "      <td>northeast</td>\n",
              "      <td>2205.98</td>\n",
              "    </tr>\n",
              "    <tr>\n",
              "      <th>1335</th>\n",
              "      <td>18</td>\n",
              "      <td>female</td>\n",
              "      <td>36.9</td>\n",
              "      <td>0</td>\n",
              "      <td>no</td>\n",
              "      <td>southeast</td>\n",
              "      <td>1629.83</td>\n",
              "    </tr>\n",
              "    <tr>\n",
              "      <th>1336</th>\n",
              "      <td>21</td>\n",
              "      <td>female</td>\n",
              "      <td>25.8</td>\n",
              "      <td>0</td>\n",
              "      <td>no</td>\n",
              "      <td>southwest</td>\n",
              "      <td>2007.95</td>\n",
              "    </tr>\n",
              "    <tr>\n",
              "      <th>1337</th>\n",
              "      <td>61</td>\n",
              "      <td>female</td>\n",
              "      <td>29.1</td>\n",
              "      <td>0</td>\n",
              "      <td>yes</td>\n",
              "      <td>northwest</td>\n",
              "      <td>29141.36</td>\n",
              "    </tr>\n",
              "  </tbody>\n",
              "</table>\n",
              "<p>1337 rows × 7 columns</p>\n",
              "</div>\n",
              "      <button class=\"colab-df-convert\" onclick=\"convertToInteractive('df-c58dbcfa-003d-431b-aac8-64a7a48ad3f5')\"\n",
              "              title=\"Convert this dataframe to an interactive table.\"\n",
              "              style=\"display:none;\">\n",
              "\n",
              "  <svg xmlns=\"http://www.w3.org/2000/svg\" height=\"24px\"viewBox=\"0 0 24 24\"\n",
              "       width=\"24px\">\n",
              "    <path d=\"M0 0h24v24H0V0z\" fill=\"none\"/>\n",
              "    <path d=\"M18.56 5.44l.94 2.06.94-2.06 2.06-.94-2.06-.94-.94-2.06-.94 2.06-2.06.94zm-11 1L8.5 8.5l.94-2.06 2.06-.94-2.06-.94L8.5 2.5l-.94 2.06-2.06.94zm10 10l.94 2.06.94-2.06 2.06-.94-2.06-.94-.94-2.06-.94 2.06-2.06.94z\"/><path d=\"M17.41 7.96l-1.37-1.37c-.4-.4-.92-.59-1.43-.59-.52 0-1.04.2-1.43.59L10.3 9.45l-7.72 7.72c-.78.78-.78 2.05 0 2.83L4 21.41c.39.39.9.59 1.41.59.51 0 1.02-.2 1.41-.59l7.78-7.78 2.81-2.81c.8-.78.8-2.07 0-2.86zM5.41 20L4 18.59l7.72-7.72 1.47 1.35L5.41 20z\"/>\n",
              "  </svg>\n",
              "      </button>\n",
              "\n",
              "\n",
              "\n",
              "    <div id=\"df-7674e3ea-7539-4ea6-9540-e13df387621c\">\n",
              "      <button class=\"colab-df-quickchart\" onclick=\"quickchart('df-7674e3ea-7539-4ea6-9540-e13df387621c')\"\n",
              "              title=\"Suggest charts.\"\n",
              "              style=\"display:none;\">\n",
              "\n",
              "<svg xmlns=\"http://www.w3.org/2000/svg\" height=\"24px\"viewBox=\"0 0 24 24\"\n",
              "     width=\"24px\">\n",
              "    <g>\n",
              "        <path d=\"M19 3H5c-1.1 0-2 .9-2 2v14c0 1.1.9 2 2 2h14c1.1 0 2-.9 2-2V5c0-1.1-.9-2-2-2zM9 17H7v-7h2v7zm4 0h-2V7h2v10zm4 0h-2v-4h2v4z\"/>\n",
              "    </g>\n",
              "</svg>\n",
              "      </button>\n",
              "    </div>\n",
              "\n",
              "<style>\n",
              "  .colab-df-quickchart {\n",
              "    background-color: #E8F0FE;\n",
              "    border: none;\n",
              "    border-radius: 50%;\n",
              "    cursor: pointer;\n",
              "    display: none;\n",
              "    fill: #1967D2;\n",
              "    height: 32px;\n",
              "    padding: 0 0 0 0;\n",
              "    width: 32px;\n",
              "  }\n",
              "\n",
              "  .colab-df-quickchart:hover {\n",
              "    background-color: #E2EBFA;\n",
              "    box-shadow: 0px 1px 2px rgba(60, 64, 67, 0.3), 0px 1px 3px 1px rgba(60, 64, 67, 0.15);\n",
              "    fill: #174EA6;\n",
              "  }\n",
              "\n",
              "  [theme=dark] .colab-df-quickchart {\n",
              "    background-color: #3B4455;\n",
              "    fill: #D2E3FC;\n",
              "  }\n",
              "\n",
              "  [theme=dark] .colab-df-quickchart:hover {\n",
              "    background-color: #434B5C;\n",
              "    box-shadow: 0px 1px 3px 1px rgba(0, 0, 0, 0.15);\n",
              "    filter: drop-shadow(0px 1px 2px rgba(0, 0, 0, 0.3));\n",
              "    fill: #FFFFFF;\n",
              "  }\n",
              "</style>\n",
              "\n",
              "    <script>\n",
              "      async function quickchart(key) {\n",
              "        const containerElement = document.querySelector('#' + key);\n",
              "        const charts = await google.colab.kernel.invokeFunction(\n",
              "            'suggestCharts', [key], {});\n",
              "      }\n",
              "    </script>\n",
              "\n",
              "      <script>\n",
              "\n",
              "function displayQuickchartButton(domScope) {\n",
              "  let quickchartButtonEl =\n",
              "    domScope.querySelector('#df-7674e3ea-7539-4ea6-9540-e13df387621c button.colab-df-quickchart');\n",
              "  quickchartButtonEl.style.display =\n",
              "    google.colab.kernel.accessAllowed ? 'block' : 'none';\n",
              "}\n",
              "\n",
              "        displayQuickchartButton(document);\n",
              "      </script>\n",
              "      <style>\n",
              "    .colab-df-container {\n",
              "      display:flex;\n",
              "      flex-wrap:wrap;\n",
              "      gap: 12px;\n",
              "    }\n",
              "\n",
              "    .colab-df-convert {\n",
              "      background-color: #E8F0FE;\n",
              "      border: none;\n",
              "      border-radius: 50%;\n",
              "      cursor: pointer;\n",
              "      display: none;\n",
              "      fill: #1967D2;\n",
              "      height: 32px;\n",
              "      padding: 0 0 0 0;\n",
              "      width: 32px;\n",
              "    }\n",
              "\n",
              "    .colab-df-convert:hover {\n",
              "      background-color: #E2EBFA;\n",
              "      box-shadow: 0px 1px 2px rgba(60, 64, 67, 0.3), 0px 1px 3px 1px rgba(60, 64, 67, 0.15);\n",
              "      fill: #174EA6;\n",
              "    }\n",
              "\n",
              "    [theme=dark] .colab-df-convert {\n",
              "      background-color: #3B4455;\n",
              "      fill: #D2E3FC;\n",
              "    }\n",
              "\n",
              "    [theme=dark] .colab-df-convert:hover {\n",
              "      background-color: #434B5C;\n",
              "      box-shadow: 0px 1px 3px 1px rgba(0, 0, 0, 0.15);\n",
              "      filter: drop-shadow(0px 1px 2px rgba(0, 0, 0, 0.3));\n",
              "      fill: #FFFFFF;\n",
              "    }\n",
              "  </style>\n",
              "\n",
              "      <script>\n",
              "        const buttonEl =\n",
              "          document.querySelector('#df-c58dbcfa-003d-431b-aac8-64a7a48ad3f5 button.colab-df-convert');\n",
              "        buttonEl.style.display =\n",
              "          google.colab.kernel.accessAllowed ? 'block' : 'none';\n",
              "\n",
              "        async function convertToInteractive(key) {\n",
              "          const element = document.querySelector('#df-c58dbcfa-003d-431b-aac8-64a7a48ad3f5');\n",
              "          const dataTable =\n",
              "            await google.colab.kernel.invokeFunction('convertToInteractive',\n",
              "                                                     [key], {});\n",
              "          if (!dataTable) return;\n",
              "\n",
              "          const docLinkHtml = 'Like what you see? Visit the ' +\n",
              "            '<a target=\"_blank\" href=https://colab.research.google.com/notebooks/data_table.ipynb>data table notebook</a>'\n",
              "            + ' to learn more about interactive tables.';\n",
              "          element.innerHTML = '';\n",
              "          dataTable['output_type'] = 'display_data';\n",
              "          await google.colab.output.renderOutput(dataTable, element);\n",
              "          const docLink = document.createElement('div');\n",
              "          docLink.innerHTML = docLinkHtml;\n",
              "          element.appendChild(docLink);\n",
              "        }\n",
              "      </script>\n",
              "    </div>\n",
              "  </div>\n"
            ]
          },
          "metadata": {},
          "execution_count": 7
        }
      ]
    },
    {
      "cell_type": "code",
      "source": [
        "from sklearn.preprocessing import LabelBinarizer, LabelEncoder"
      ],
      "metadata": {
        "id": "wZx8uZ7zy27H"
      },
      "execution_count": null,
      "outputs": []
    },
    {
      "cell_type": "code",
      "source": [
        "lbin = LabelBinarizer()"
      ],
      "metadata": {
        "id": "nZ-ieSFhzobo"
      },
      "execution_count": null,
      "outputs": []
    },
    {
      "cell_type": "code",
      "source": [
        "lblenc = LabelEncoder()"
      ],
      "metadata": {
        "id": "Hk2UFMR20i--"
      },
      "execution_count": null,
      "outputs": []
    },
    {
      "cell_type": "code",
      "source": [
        "# sex column\n",
        "df['sex'].unique()"
      ],
      "metadata": {
        "colab": {
          "base_uri": "https://localhost:8080/"
        },
        "id": "JNqXG1_YzSjx",
        "outputId": "586ad345-daea-4d67-e8f7-80db98219e3c"
      },
      "execution_count": null,
      "outputs": [
        {
          "output_type": "execute_result",
          "data": {
            "text/plain": [
              "array(['female', 'male'], dtype=object)"
            ]
          },
          "metadata": {},
          "execution_count": 9
        }
      ]
    },
    {
      "cell_type": "code",
      "source": [
        "# Binary encoding\n",
        "df['sex'] = lbin.fit_transform(df['sex'])"
      ],
      "metadata": {
        "id": "JN5Vhf19zeA3"
      },
      "execution_count": null,
      "outputs": []
    },
    {
      "cell_type": "code",
      "source": [
        "df['sex'].unique()"
      ],
      "metadata": {
        "colab": {
          "base_uri": "https://localhost:8080/"
        },
        "id": "OxlaFzn1z1Dy",
        "outputId": "5358a55a-23db-410e-8626-2a10675ce06c"
      },
      "execution_count": null,
      "outputs": [
        {
          "output_type": "execute_result",
          "data": {
            "text/plain": [
              "array([0, 1])"
            ]
          },
          "metadata": {},
          "execution_count": 12
        }
      ]
    },
    {
      "cell_type": "code",
      "source": [
        "#smoker\n",
        "df['smoker'].unique()"
      ],
      "metadata": {
        "colab": {
          "base_uri": "https://localhost:8080/"
        },
        "id": "dDaKS2__z_1U",
        "outputId": "eb1f83b0-fcc5-460e-8e45-8691d349887f"
      },
      "execution_count": null,
      "outputs": [
        {
          "output_type": "execute_result",
          "data": {
            "text/plain": [
              "array(['yes', 'no'], dtype=object)"
            ]
          },
          "metadata": {},
          "execution_count": 14
        }
      ]
    },
    {
      "cell_type": "code",
      "source": [
        "df['smoker'] = lbin.fit_transform(df['smoker'])"
      ],
      "metadata": {
        "id": "JWudsngp0LyP"
      },
      "execution_count": null,
      "outputs": []
    },
    {
      "cell_type": "code",
      "source": [
        "df['smoker'].unique()"
      ],
      "metadata": {
        "colab": {
          "base_uri": "https://localhost:8080/"
        },
        "id": "pIJ5tsuv0TV4",
        "outputId": "67cfd4e5-abf6-40fc-cd8e-b753dfcd1df4"
      },
      "execution_count": null,
      "outputs": [
        {
          "output_type": "execute_result",
          "data": {
            "text/plain": [
              "array([1, 0])"
            ]
          },
          "metadata": {},
          "execution_count": 16
        }
      ]
    },
    {
      "cell_type": "code",
      "source": [
        "#region\n",
        "df['region'].unique()"
      ],
      "metadata": {
        "colab": {
          "base_uri": "https://localhost:8080/"
        },
        "id": "qwX3BrKS0aoH",
        "outputId": "38af8cd2-9c24-4a78-f144-ed1668990169"
      },
      "execution_count": null,
      "outputs": [
        {
          "output_type": "execute_result",
          "data": {
            "text/plain": [
              "array(['southwest', 'southeast', 'northwest', 'northeast'], dtype=object)"
            ]
          },
          "metadata": {},
          "execution_count": 17
        }
      ]
    },
    {
      "cell_type": "code",
      "source": [
        "df['region'] = lblenc.fit_transform(df['region'])"
      ],
      "metadata": {
        "id": "sLMQwLVV0nko"
      },
      "execution_count": null,
      "outputs": []
    },
    {
      "cell_type": "code",
      "source": [
        "df['region'].unique()"
      ],
      "metadata": {
        "colab": {
          "base_uri": "https://localhost:8080/"
        },
        "id": "zAlKNTTC0xtH",
        "outputId": "2e2ce690-9065-49e7-d52d-5deed789c613"
      },
      "execution_count": null,
      "outputs": [
        {
          "output_type": "execute_result",
          "data": {
            "text/plain": [
              "array([3, 2, 1, 0])"
            ]
          },
          "metadata": {},
          "execution_count": 20
        }
      ]
    },
    {
      "cell_type": "code",
      "source": [
        "df.info()"
      ],
      "metadata": {
        "colab": {
          "base_uri": "https://localhost:8080/"
        },
        "id": "dvHQDm-302T4",
        "outputId": "bcc466dc-ecb9-4bfa-f129-b24ebad23944"
      },
      "execution_count": null,
      "outputs": [
        {
          "output_type": "stream",
          "name": "stdout",
          "text": [
            "<class 'pandas.core.frame.DataFrame'>\n",
            "RangeIndex: 1338 entries, 0 to 1337\n",
            "Data columns (total 7 columns):\n",
            " #   Column    Non-Null Count  Dtype  \n",
            "---  ------    --------------  -----  \n",
            " 0   age       1338 non-null   int64  \n",
            " 1   sex       1338 non-null   int64  \n",
            " 2   bmi       1338 non-null   float64\n",
            " 3   children  1338 non-null   int64  \n",
            " 4   smoker    1338 non-null   int64  \n",
            " 5   region    1338 non-null   int64  \n",
            " 6   expenses  1338 non-null   float64\n",
            "dtypes: float64(2), int64(5)\n",
            "memory usage: 73.3 KB\n"
          ]
        }
      ]
    },
    {
      "cell_type": "code",
      "source": [
        "x = df.drop(['expenses'], axis=1)\n",
        "y= df['expenses']\n",
        "y"
      ],
      "metadata": {
        "colab": {
          "base_uri": "https://localhost:8080/"
        },
        "id": "EmtyGd830_K_",
        "outputId": "ad6908e1-bf8b-4946-9284-e158dda2416a"
      },
      "execution_count": null,
      "outputs": [
        {
          "output_type": "execute_result",
          "data": {
            "text/plain": [
              "0       16884.92\n",
              "1        1725.55\n",
              "2        4449.46\n",
              "3       21984.47\n",
              "4        3866.86\n",
              "          ...   \n",
              "1333    10600.55\n",
              "1334     2205.98\n",
              "1335     1629.83\n",
              "1336     2007.95\n",
              "1337    29141.36\n",
              "Name: expenses, Length: 1338, dtype: float64"
            ]
          },
          "metadata": {},
          "execution_count": 22
        }
      ]
    },
    {
      "cell_type": "code",
      "source": [
        "from sklearn.model_selection import train_test_split\n",
        "from sklearn.linear_model import LinearRegression"
      ],
      "metadata": {
        "id": "2lovpchm1tJi"
      },
      "execution_count": null,
      "outputs": []
    },
    {
      "cell_type": "code",
      "source": [
        "x_train, x_test, y_train, y_test = train_test_split(x,  y, test_size = 0.33, random_state=42)"
      ],
      "metadata": {
        "id": "4TApUvah1aSI"
      },
      "execution_count": null,
      "outputs": []
    },
    {
      "cell_type": "code",
      "source": [
        "linear_reg = LinearRegression()\n",
        "linerfit = linear_reg.fit(x_train, y_train)\n",
        "liner_pr = linerfit.predict(x_test)"
      ],
      "metadata": {
        "id": "u_7QjW8X2sU-"
      },
      "execution_count": null,
      "outputs": []
    },
    {
      "cell_type": "code",
      "source": [
        "print(liner_pr)"
      ],
      "metadata": {
        "colab": {
          "base_uri": "https://localhost:8080/"
        },
        "id": "KF_C2Hqv352R",
        "outputId": "64b2555f-53c5-4ba5-8a6c-4e8f9ea685cf"
      },
      "execution_count": null,
      "outputs": [
        {
          "output_type": "stream",
          "name": "stdout",
          "text": [
            "[ 8.79186053e+03  7.03602488e+03  3.70032238e+04  9.43358483e+03\n",
            "  2.70545789e+04  1.08422988e+04  1.48357906e+01  1.72053608e+04\n",
            "  8.86891136e+02  1.12464985e+04  2.79010281e+04  9.42754920e+03\n",
            "  5.14441501e+03  3.85487118e+04  4.05828180e+04  3.72391735e+04\n",
            "  1.52419630e+04  3.59490915e+04  9.08477277e+03  3.15014342e+04\n",
            "  3.47412065e+03  1.00477955e+04  2.26008946e+03  7.01702957e+03\n",
            "  1.11737686e+04  1.29702753e+04  1.44812260e+04  5.93532260e+03\n",
            "  9.79508091e+03  2.18958651e+03  8.74971070e+03  1.31539807e+04\n",
            "  4.48933528e+03  3.16122078e+03  4.33052071e+03  1.31721303e+04\n",
            "  1.65890707e+03  8.62078769e+03  3.32742904e+04  3.27172925e+04\n",
            "  3.38172815e+03  4.35016404e+03  1.40463135e+04  1.16507099e+04\n",
            "  8.81748384e+03  1.21204035e+04  5.08536218e+03  2.73486082e+03\n",
            "  3.55719285e+04  9.18352182e+03  1.59721548e+04  2.32339353e+03\n",
            "  1.23597984e+04  1.40869096e+03  1.36171585e+04  1.25931123e+04\n",
            "  4.34718195e+03  3.21745268e+04  1.32726168e+04  1.29136741e+04\n",
            "  1.41375578e+04  1.04010792e+04  1.63351435e+04  7.64324626e+03\n",
            "  1.18301291e+04  3.91004245e+03  2.63615545e+04  1.09509635e+04\n",
            "  1.96020290e+03  6.16112218e+03  1.07873783e+04  1.14842841e+04\n",
            "  1.10153614e+04  9.19132264e+03  1.21132699e+04  6.70761201e+03\n",
            "  7.11192732e+03  1.08038717e+04  6.41972188e+03  8.45390083e+03\n",
            "  3.80897316e+03  3.68342935e+04  6.07809369e+03  3.06573535e+04\n",
            "  3.50057067e+04  3.54362182e+04  6.96721985e+03  1.31016465e+04\n",
            "  9.85642941e+03  1.44103809e+04  1.76615484e+04  3.53740155e+04\n",
            "  3.29431511e+04  6.07488704e+03  3.21367113e+04  9.38688973e+03\n",
            "  2.95127507e+04  3.57694757e+03  2.81204395e+04  5.59002593e+03\n",
            "  5.28980889e+03  1.61728636e+03  1.17069649e+04  1.50251936e+04\n",
            "  1.18527050e+04  4.30881816e+03  9.95356919e+03  3.19025963e+04\n",
            " -1.65956164e+02  3.28313215e+04  3.18433885e+03  1.02728929e+04\n",
            "  1.42889681e+04  3.15227060e+04  1.13833549e+04  3.78552461e+03\n",
            "  1.32680566e+04  3.15914630e+04  8.02453959e+03  3.24289565e+03\n",
            "  8.30929171e+03  1.06598817e+04  1.51443430e+04  5.74695101e+03\n",
            "  3.56460904e+03  1.01540045e+04  1.08661623e+04  1.11703715e+04\n",
            "  1.45476489e+04  7.53884859e+03  5.31733750e+03  9.20141914e+03\n",
            "  9.24636405e+03  1.25293272e+04  8.19211285e+03  1.54066236e+04\n",
            "  8.45360343e+03  3.18415879e+04  3.59054308e+04  3.15587027e+04\n",
            "  5.97484964e+03  1.25950829e+04  6.09977368e+03  1.45420785e+04\n",
            "  2.51733216e+03  3.29161880e+04  6.27045413e+03  4.82962903e+03\n",
            "  1.42769697e+04  6.85958782e+03  3.86647616e+04  2.97975742e+03\n",
            "  5.95504702e+03  3.17099921e+04  1.15619667e+04  8.54443611e+03\n",
            "  1.49901376e+04  9.79177172e+03  2.70418438e+04  3.35320602e+04\n",
            "  1.44570066e+04  1.48366972e+03  1.31533830e+04  2.17093751e+03\n",
            "  5.21565463e+03  1.16546341e+04  3.98498686e+04  3.66412467e+04\n",
            "  3.41007797e+04  3.66846666e+03  7.24882208e+03  8.46284571e+03\n",
            "  1.25929027e+04  4.82534360e+03  1.78709003e+03  3.22444993e+04\n",
            "  2.50284948e+04  1.78011973e+04  2.62513361e+04  1.02100752e+04\n",
            "  3.73092669e+04 -7.44768781e+02  6.86060134e+03  7.56367332e+03\n",
            "  4.17852990e+03  5.02178328e+03  5.86210903e+03  4.08839862e+03\n",
            "  1.52345737e+04  1.13216107e+04  6.72183884e+03  2.34053498e+03\n",
            "  1.33460735e+03  3.18631345e+04  1.66952825e+04  1.20751830e+04\n",
            "  1.07289221e+03  1.24163343e+04  1.34782267e+03  8.60933757e+03\n",
            "  1.74607127e+03  3.41598326e+04  1.09069565e+04  2.53413151e+03\n",
            "  2.55206791e+04  2.62965525e+04  9.60088326e+03  1.51030992e+03\n",
            "  1.35066633e+04  7.89905277e+02  1.04448272e+04  1.05631727e+04\n",
            "  1.68928547e+04  2.69512173e+04  6.95441610e+03  5.03940577e+03\n",
            "  5.74736596e+03  1.31348026e+04  1.11468727e+04  8.29100201e+03\n",
            "  5.05736836e+03  1.25132645e+04  1.39016371e+04  3.59173619e+04\n",
            "  4.21635702e+03  2.90498444e+04 -1.22392475e+03  2.91691519e+03\n",
            "  1.11744516e+04  1.55780399e+04  5.30329567e+03  6.89233093e+03\n",
            "  3.51208788e+03  3.13504858e+04  7.22278382e+03  1.26390151e+04\n",
            "  5.60039389e+03  9.55242297e+03  3.63133643e+04  4.50411041e+03\n",
            "  9.61288507e+03  3.10653029e+04  5.69455077e+03  4.46113945e+03\n",
            "  1.06841640e+03  4.92200234e+03  4.24281021e+03  6.41593247e+03\n",
            "  1.85517044e+04 -1.56740596e+03  2.11889655e+03  1.05595022e+04\n",
            "  2.91402094e+03  1.01619420e+04  3.57178873e+03  4.98647303e+03\n",
            "  1.24882067e+04  6.25391043e+03  8.29804779e+03  7.31169538e+03\n",
            "  8.75925753e+03  1.05391745e+04  2.79320679e+04  3.93833633e+04\n",
            "  1.18413236e+04  7.67231550e+03  4.11065917e+04  1.21886603e+04\n",
            "  6.97963322e+03  8.26090288e+03  9.18787872e+03  1.08669023e+04\n",
            "  9.96245218e+03  1.78815219e+04  8.28609177e+02  2.35609300e+04\n",
            "  1.27148481e+04  3.32253307e+04  5.08082110e+03  1.33428952e+04\n",
            "  1.04076631e+04  1.78494514e+04  9.62630794e+03  1.15863079e+04\n",
            "  3.21803721e+04  3.27685227e+03  1.36809427e+04  3.95418357e+04\n",
            "  5.43946983e+03  6.20042803e+03  3.26478438e+03  1.14283851e+04\n",
            "  2.53040306e+04  1.40140879e+04  9.14502748e+03  1.01214696e+04\n",
            "  1.35912583e+04  7.09580665e+02  2.42358603e+03  3.09115585e+04\n",
            "  3.00195197e+04  1.36756438e+04  3.53443845e+03  2.54083500e+04\n",
            "  1.35411043e+04  3.08746198e+04  3.34375537e+03  3.92345757e+04\n",
            "  1.12360557e+04  4.86723495e+03  6.51863022e+03  2.52878228e+03\n",
            "  2.59564650e+04  1.43548082e+04  3.84748455e+02  1.25576151e+04\n",
            "  1.28759281e+04  1.50248493e+04  3.50835336e+04  1.43234744e+04\n",
            "  3.17907475e+04  9.76791160e+03  1.81256874e+04  5.85772105e+03\n",
            "  8.94784693e+03  9.23674858e+03  1.53403911e+04  9.01855608e+03\n",
            "  8.31647140e+03  1.51030129e+04  1.27964108e+04  1.49006585e+04\n",
            "  7.38492140e+03  2.62126941e+04  9.41345710e+03  1.86489440e+03\n",
            "  4.19467703e+03  1.42007217e+04  3.59072654e+04  9.43787027e+03\n",
            "  1.28089589e+04  5.17789479e+03  4.79382275e+03  3.71997850e+03\n",
            "  2.64861812e+03  8.94580690e+03  7.18664706e+03  2.50526427e+03\n",
            "  1.28757947e+04  8.86860111e+03  5.77292400e+03  4.81410573e+02\n",
            "  9.31321770e+03  4.96722208e+03  3.29904612e+04  2.86549894e+04\n",
            "  3.71370961e+04  5.51561184e+03  8.70063209e+03  8.39410796e+03\n",
            "  3.38546054e+03  3.16213395e+04  7.05479561e+03  2.84936077e+04\n",
            "  3.61878199e+04  7.08103924e+03  1.29065789e+04  9.75779590e+03\n",
            "  8.28219386e+03  1.26125686e+04  3.01375251e+04  1.71419200e+04\n",
            "  1.17861949e+04  3.94718735e+03 -1.42192425e+03  1.21592284e+04\n",
            "  3.08471104e+04  1.31466609e+04  1.12107231e+04  7.90773392e+03\n",
            "  3.51335367e+03  7.08775791e+03  7.12687675e+03  1.04616952e+04\n",
            "  3.37546791e+04  3.91502589e+04  1.18691270e+04  8.31038969e+03\n",
            "  1.65905481e+04  1.55075370e+04  9.45670627e+03  9.19939411e+03\n",
            "  8.74874945e+03  2.54736601e+03  1.00855574e+04  3.91072886e+03\n",
            "  1.05683316e+04  1.60300905e+04  6.76848030e+03  1.99822039e+03\n",
            "  1.47230732e+04  2.00640985e+01  1.39965519e+04  8.37533804e+03\n",
            "  1.32283425e+04  3.63696221e+04  3.37346703e+04  3.55680697e+04\n",
            "  5.93038495e+03  6.06885141e+03  1.65369324e+04  8.20327314e+03\n",
            "  3.78139244e+04  4.83368990e+03  8.19657030e+03  9.88756125e+03\n",
            "  3.02872705e+04  5.16906545e+03  3.46191129e+03  1.66925561e+04\n",
            "  3.61292923e+03  6.19664199e+03  1.02844145e+04 -1.06036208e+03\n",
            "  2.95051594e+04  8.37348839e+03  9.82857369e+03  5.70709887e+03\n",
            "  7.40125890e+03  1.15185348e+04  2.88643930e+04  9.51615485e+03\n",
            "  1.06198392e+04  6.39680244e+03  4.16104752e+03  7.70654329e+02\n",
            "  7.87887087e+03  1.12662263e+04  1.00785831e+04  8.46034466e+03\n",
            "  6.06708959e+03  4.35532288e+03]\n"
          ]
        }
      ]
    },
    {
      "cell_type": "code",
      "source": [
        "from sklearn.metrics import mean_absolute_error, mean_squared_error, r2_score"
      ],
      "metadata": {
        "id": "V2gScQHq8IZ4"
      },
      "execution_count": null,
      "outputs": []
    },
    {
      "cell_type": "code",
      "source": [],
      "metadata": {
        "id": "q0dwILsM66VX"
      },
      "execution_count": null,
      "outputs": []
    }
  ]
}